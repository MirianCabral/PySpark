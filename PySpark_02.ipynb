{
  "nbformat": 4,
  "nbformat_minor": 0,
  "metadata": {
    "colab": {
      "provenance": [],
      "authorship_tag": "ABX9TyPCFtwZbnQC99/R4sL3SIRF",
      "include_colab_link": true
    },
    "kernelspec": {
      "name": "python3",
      "display_name": "Python 3"
    },
    "language_info": {
      "name": "python"
    }
  },
  "cells": [
    {
      "cell_type": "markdown",
      "metadata": {
        "id": "view-in-github",
        "colab_type": "text"
      },
      "source": [
        "<a href=\"https://colab.research.google.com/github/MirianCabral/PySpark/blob/main/PySpark_02.ipynb\" target=\"_parent\"><img src=\"https://colab.research.google.com/assets/colab-badge.svg\" alt=\"Open In Colab\"/></a>"
      ]
    },
    {
      "cell_type": "markdown",
      "source": [
        "Importação de bibliotecas/funções"
      ],
      "metadata": {
        "id": "RpaUq0fRYT0K"
      }
    },
    {
      "cell_type": "code",
      "execution_count": 1,
      "metadata": {
        "id": "IMyNyimLW4x1"
      },
      "outputs": [],
      "source": [
        "import os\n",
        "import sys\n",
        "from pyspark.sql import SparkSession\n",
        "from pyspark.sql.functions import *\n",
        "from pyspark.sql.types import *\n",
        "\n",
        "os.environ['PYSPARK_PYTHON'] = sys.executable\n",
        "os.environ['PYSPARK_DRIVER_PYTHON'] = sys.executable"
      ]
    },
    {
      "cell_type": "code",
      "source": [
        "from pyspark.sql.window import Window # Importando window function"
      ],
      "metadata": {
        "id": "Iew6GYQyZDsw"
      },
      "execution_count": 2,
      "outputs": []
    },
    {
      "cell_type": "markdown",
      "source": [
        "Criar / Iniciar Sessão Pyspark"
      ],
      "metadata": {
        "id": "BRm7_Y1FZgec"
      }
    },
    {
      "cell_type": "code",
      "source": [
        "spark = (\n",
        "    SparkSession.builder\n",
        "    .master('local')\n",
        "    .appName('PySpark_02')\n",
        "    .getOrCreate()\n",
        ")"
      ],
      "metadata": {
        "id": "XP4oXYCKZezl"
      },
      "execution_count": 3,
      "outputs": []
    },
    {
      "cell_type": "markdown",
      "source": [
        "Criar DF/ler arquivo"
      ],
      "metadata": {
        "id": "fIQUX2oGZ29s"
      }
    },
    {
      "cell_type": "code",
      "source": [
        "df = spark.read.csv('/content/wc2018-players.csv', header = True, inferSchema = True)"
      ],
      "metadata": {
        "id": "oDaZujoRZzf8"
      },
      "execution_count": 4,
      "outputs": []
    },
    {
      "cell_type": "markdown",
      "source": [
        "Exibir DF"
      ],
      "metadata": {
        "id": "7D8dOfYyaSdt"
      }
    },
    {
      "cell_type": "code",
      "source": [
        "df.show(5)"
      ],
      "metadata": {
        "colab": {
          "base_uri": "https://localhost:8080/"
        },
        "id": "3VekGnqAaQRK",
        "outputId": "ad613025-be8f-408c-8276-9aa8165c7770"
      },
      "execution_count": 5,
      "outputs": [
        {
          "output_type": "stream",
          "name": "stdout",
          "text": [
            "+---------+---+----+------------------+----------+----------+--------------------+------+------+\n",
            "|     Team|  #|Pos.| FIFA Popular Name|Birth Date|Shirt Name|                Club|Height|Weight|\n",
            "+---------+---+----+------------------+----------+----------+--------------------+------+------+\n",
            "|Argentina|  3|  DF|TAGLIAFICO Nicolas|31.08.1992|TAGLIAFICO|      AFC Ajax (NED)|   169|    65|\n",
            "|Argentina| 22|  MF|    PAVON Cristian|21.01.1996|     PAVÓN|CA Boca Juniors (...|   169|    65|\n",
            "|Argentina| 15|  MF|    LANZINI Manuel|15.02.1993|   LANZINI|West Ham United F...|   167|    66|\n",
            "|Argentina| 18|  DF|    SALVIO Eduardo|13.07.1990|    SALVIO|    SL Benfica (POR)|   167|    69|\n",
            "|Argentina| 10|  FW|      MESSI Lionel|24.06.1987|     MESSI|  FC Barcelona (ESP)|   170|    72|\n",
            "+---------+---+----+------------------+----------+----------+--------------------+------+------+\n",
            "only showing top 5 rows\n",
            "\n"
          ]
        }
      ]
    },
    {
      "cell_type": "markdown",
      "source": [
        "Alterações da Aula PySpark 01"
      ],
      "metadata": {
        "id": "vWgYd9nXbVlu"
      }
    },
    {
      "cell_type": "code",
      "source": [
        "df = df.withColumnRenamed('Team', 'Selecao').withColumnRenamed('#', 'Numero').withColumnRenamed('Pos.', 'Posicao').withColumnRenamed('FIFA Popular Name', 'Nome_FIFA')\\\n",
        ".withColumnRenamed('Birth Date', 'Nascimento').withColumnRenamed('Shirt Name', 'Nome_Camiseta').withColumnRenamed('Club', 'Time')\\\n",
        ".withColumnRenamed('Height', 'Altura').withColumnRenamed('Weight', 'Peso')"
      ],
      "metadata": {
        "id": "X3qKN36RaVSA"
      },
      "execution_count": 6,
      "outputs": []
    },
    {
      "cell_type": "code",
      "source": [
        "dia = udf(lambda data: data.split('.')[0])\n",
        "mes = udf(lambda data: data.split('.')[1])\n",
        "ano = udf(lambda data: data.split('.')[2])"
      ],
      "metadata": {
        "id": "GcHvMa5RcWBP"
      },
      "execution_count": 7,
      "outputs": []
    },
    {
      "cell_type": "code",
      "source": [
        "df.show(5)"
      ],
      "metadata": {
        "colab": {
          "base_uri": "https://localhost:8080/"
        },
        "id": "GcuposicfJNO",
        "outputId": "0319dd7a-5a11-4a06-ea97-fdc7bd4fa66a"
      },
      "execution_count": 8,
      "outputs": [
        {
          "output_type": "stream",
          "name": "stdout",
          "text": [
            "+---------+------+-------+------------------+----------+-------------+--------------------+------+----+\n",
            "|  Selecao|Numero|Posicao|         Nome_FIFA|Nascimento|Nome_Camiseta|                Time|Altura|Peso|\n",
            "+---------+------+-------+------------------+----------+-------------+--------------------+------+----+\n",
            "|Argentina|     3|     DF|TAGLIAFICO Nicolas|31.08.1992|   TAGLIAFICO|      AFC Ajax (NED)|   169|  65|\n",
            "|Argentina|    22|     MF|    PAVON Cristian|21.01.1996|        PAVÓN|CA Boca Juniors (...|   169|  65|\n",
            "|Argentina|    15|     MF|    LANZINI Manuel|15.02.1993|      LANZINI|West Ham United F...|   167|  66|\n",
            "|Argentina|    18|     DF|    SALVIO Eduardo|13.07.1990|       SALVIO|    SL Benfica (POR)|   167|  69|\n",
            "|Argentina|    10|     FW|      MESSI Lionel|24.06.1987|        MESSI|  FC Barcelona (ESP)|   170|  72|\n",
            "+---------+------+-------+------------------+----------+-------------+--------------------+------+----+\n",
            "only showing top 5 rows\n",
            "\n"
          ]
        }
      ]
    },
    {
      "cell_type": "code",
      "source": [
        "df = df.withColumn('Dia', dia('Nascimento')).withColumn('Mes', mes('Nascimento')).withColumn('Ano', ano('Nascimento'))\n",
        "df = df.withColumn('Data_Nascimento', concat_ws('-', 'Ano', 'Mes', 'Dia').cast(DateType()))\n",
        "df.show(5)"
      ],
      "metadata": {
        "colab": {
          "base_uri": "https://localhost:8080/"
        },
        "id": "lJy-3SwodSNJ",
        "outputId": "9406dff6-c110-4318-8c1b-cdcc5168a15b"
      },
      "execution_count": 9,
      "outputs": [
        {
          "output_type": "stream",
          "name": "stdout",
          "text": [
            "+---------+------+-------+------------------+----------+-------------+--------------------+------+----+---+---+----+---------------+\n",
            "|  Selecao|Numero|Posicao|         Nome_FIFA|Nascimento|Nome_Camiseta|                Time|Altura|Peso|Dia|Mes| Ano|Data_Nascimento|\n",
            "+---------+------+-------+------------------+----------+-------------+--------------------+------+----+---+---+----+---------------+\n",
            "|Argentina|     3|     DF|TAGLIAFICO Nicolas|31.08.1992|   TAGLIAFICO|      AFC Ajax (NED)|   169|  65| 31| 08|1992|     1992-08-31|\n",
            "|Argentina|    22|     MF|    PAVON Cristian|21.01.1996|        PAVÓN|CA Boca Juniors (...|   169|  65| 21| 01|1996|     1996-01-21|\n",
            "|Argentina|    15|     MF|    LANZINI Manuel|15.02.1993|      LANZINI|West Ham United F...|   167|  66| 15| 02|1993|     1993-02-15|\n",
            "|Argentina|    18|     DF|    SALVIO Eduardo|13.07.1990|       SALVIO|    SL Benfica (POR)|   167|  69| 13| 07|1990|     1990-07-13|\n",
            "|Argentina|    10|     FW|      MESSI Lionel|24.06.1987|        MESSI|  FC Barcelona (ESP)|   170|  72| 24| 06|1987|     1987-06-24|\n",
            "+---------+------+-------+------------------+----------+-------------+--------------------+------+----+---+---+----+---------------+\n",
            "only showing top 5 rows\n",
            "\n"
          ]
        }
      ]
    },
    {
      "cell_type": "markdown",
      "source": [
        "Drop de Colunas"
      ],
      "metadata": {
        "id": "mNw12NLVjDCP"
      }
    },
    {
      "cell_type": "code",
      "source": [
        "df = df.drop('Nascimento')"
      ],
      "metadata": {
        "id": "SwsEb8LGibMC"
      },
      "execution_count": 10,
      "outputs": []
    },
    {
      "cell_type": "code",
      "source": [
        "df.show(5)"
      ],
      "metadata": {
        "colab": {
          "base_uri": "https://localhost:8080/"
        },
        "id": "ZeYfRejcjW61",
        "outputId": "033c4c35-1cdf-4b31-9d74-40a980f93ef4"
      },
      "execution_count": 11,
      "outputs": [
        {
          "output_type": "stream",
          "name": "stdout",
          "text": [
            "+---------+------+-------+------------------+-------------+--------------------+------+----+---+---+----+---------------+\n",
            "|  Selecao|Numero|Posicao|         Nome_FIFA|Nome_Camiseta|                Time|Altura|Peso|Dia|Mes| Ano|Data_Nascimento|\n",
            "+---------+------+-------+------------------+-------------+--------------------+------+----+---+---+----+---------------+\n",
            "|Argentina|     3|     DF|TAGLIAFICO Nicolas|   TAGLIAFICO|      AFC Ajax (NED)|   169|  65| 31| 08|1992|     1992-08-31|\n",
            "|Argentina|    22|     MF|    PAVON Cristian|        PAVÓN|CA Boca Juniors (...|   169|  65| 21| 01|1996|     1996-01-21|\n",
            "|Argentina|    15|     MF|    LANZINI Manuel|      LANZINI|West Ham United F...|   167|  66| 15| 02|1993|     1993-02-15|\n",
            "|Argentina|    18|     DF|    SALVIO Eduardo|       SALVIO|    SL Benfica (POR)|   167|  69| 13| 07|1990|     1990-07-13|\n",
            "|Argentina|    10|     FW|      MESSI Lionel|        MESSI|  FC Barcelona (ESP)|   170|  72| 24| 06|1987|     1987-06-24|\n",
            "+---------+------+-------+------------------+-------------+--------------------+------+----+---+---+----+---------------+\n",
            "only showing top 5 rows\n",
            "\n"
          ]
        }
      ]
    },
    {
      "cell_type": "markdown",
      "source": [
        "Criar Backup"
      ],
      "metadata": {
        "id": "azcAs6kzjaEg"
      }
    },
    {
      "cell_type": "code",
      "source": [
        "df2= df"
      ],
      "metadata": {
        "id": "1BcDWXERjX9M"
      },
      "execution_count": 12,
      "outputs": []
    },
    {
      "cell_type": "markdown",
      "source": [
        "###Window Ranking Functions\n",
        "\n",
        "\n",
        "*   Window Function 1 - Numero de Linhas - row_number()\n",
        "*   Window Function 2 - Ranking 1 - rank()\n",
        "*   Window Function 3 - Ranking 2 - dense_rank()\n",
        "*   Window Function 4 - Porcentagem Ranking - percent_rank()\n",
        "*   Window Function 5 - Divisão em 'N' partes -ntile()\n",
        "\n"
      ],
      "metadata": {
        "id": "SzvAgq1ojeLA"
      }
    },
    {
      "cell_type": "markdown",
      "source": [
        "###Window Function 1 - Numero de linhas - row_number()"
      ],
      "metadata": {
        "id": "pMrEhfeikSs1"
      }
    },
    {
      "cell_type": "code",
      "source": [
        "num_linha = Window.partitionBy('Selecao').orderBy(desc('Altura'))\n",
        "df.withColumn('numero_linha', row_number().over(num_linha)).show(50)"
      ],
      "metadata": {
        "colab": {
          "base_uri": "https://localhost:8080/"
        },
        "id": "-_5ksXQjjdbo",
        "outputId": "41f16f3a-ec85-4c8f-9d68-3f95d39b961c"
      },
      "execution_count": 13,
      "outputs": [
        {
          "output_type": "stream",
          "name": "stdout",
          "text": [
            "+---------+------+-------+------------------+-------------+--------------------+------+----+---+---+----+---------------+------------+\n",
            "|  Selecao|Numero|Posicao|         Nome_FIFA|Nome_Camiseta|                Time|Altura|Peso|Dia|Mes| Ano|Data_Nascimento|numero_linha|\n",
            "+---------+------+-------+------------------+-------------+--------------------+------+----+---+---+----+---------------+------------+\n",
            "|Argentina|     6|     DF|    FAZIO Federico|        FAZIO|       AS Roma (ITA)|   199|  85| 17| 03|1987|     1987-03-17|           1|\n",
            "|Argentina|     1|     GK|     GUZMAN Nahuel|       GUZMÁN|   Tigres UANL (MEX)|   192|  90| 10| 02|1986|     1986-02-10|           2|\n",
            "|Argentina|    16|     DF|       ROJO Marcos|         ROJO|Manchester United...|   189|  82| 20| 03|1990|     1990-03-20|           3|\n",
            "|Argentina|    12|     GK|     ARMANI Franco|       ARMANI|CA River Plate (ARG)|   189|  85| 16| 10|1986|     1986-10-16|           4|\n",
            "|Argentina|    23|     GK|CABALLERO Wilfredo|    CABALLERO|    Chelsea FC (ENG)|   186|  80| 28| 09|1981|     1981-09-28|           5|\n",
            "|Argentina|     9|     FW|   HIGUAIN Gonzalo|      HIGUAÍN|   Juventus FC (ITA)|   184|  75| 10| 12|1987|     1987-12-10|           6|\n",
            "|Argentina|     4|     DF|  ANSALDI Cristian|      ANSALDI|     Torino FC (ITA)|   181|  73| 20| 09|1986|     1986-09-20|           7|\n",
            "|Argentina|     2|     DF|   MERCADO Gabriel|      MERCADO|    Sevilla FC (ESP)|   181|  81| 18| 03|1987|     1987-03-18|           8|\n",
            "|Argentina|    17|     DF|  OTAMENDI Nicolas|     OTAMENDI|Manchester City F...|   181|  81| 12| 02|1988|     1988-02-12|           9|\n",
            "|Argentina|    13|     MF|  MEZA Maximiliano|         MEZA|CA Independiente ...|   180|  76| 15| 12|1992|     1992-12-15|          10|\n",
            "|Argentina|    11|     MF|    DI MARIA Angel|     DI MARÍA|Paris Saint-Germa...|   178|  75| 14| 02|1988|     1988-02-14|          11|\n",
            "|Argentina|    21|     FW|      DYBALA Paulo|       DYBALA|   Juventus FC (ITA)|   177|  73| 15| 11|1993|     1993-11-15|          12|\n",
            "|Argentina|    20|     MF|  LO CELSO Giovani|     LO CELSO|Paris Saint-Germa...|   177|  75| 09| 04|1996|     1996-04-09|          13|\n",
            "|Argentina|     5|     MF|      BIGLIA Lucas|       BIGLIA|      AC Milan (ITA)|   175|  73| 30| 01|1986|     1986-01-30|          14|\n",
            "|Argentina|     7|     MF|       BANEGA Ever|       BANEGA|    Sevilla FC (ESP)|   175|  73| 29| 06|1988|     1988-06-29|          15|\n",
            "|Argentina|    14|     DF| MASCHERANO Javier|   MASCHERANO|Hebei China Fortu...|   174|  73| 08| 06|1984|     1984-06-08|          16|\n",
            "|Argentina|    19|     FW|     AGUERO Sergio|       AGÜERO|Manchester City F...|   172|  74| 02| 06|1988|     1988-06-02|          17|\n",
            "|Argentina|     8|     DF|      ACUNA Marcos|        ACUÑA|   Sporting CP (POR)|   172|  77| 28| 10|1991|     1991-10-28|          18|\n",
            "|Argentina|    10|     FW|      MESSI Lionel|        MESSI|  FC Barcelona (ESP)|   170|  72| 24| 06|1987|     1987-06-24|          19|\n",
            "|Argentina|     3|     DF|TAGLIAFICO Nicolas|   TAGLIAFICO|      AFC Ajax (NED)|   169|  65| 31| 08|1992|     1992-08-31|          20|\n",
            "|Argentina|    22|     MF|    PAVON Cristian|        PAVÓN|CA Boca Juniors (...|   169|  65| 21| 01|1996|     1996-01-21|          21|\n",
            "|Argentina|    15|     MF|    LANZINI Manuel|      LANZINI|West Ham United F...|   167|  66| 15| 02|1993|     1993-02-15|          22|\n",
            "|Argentina|    18|     DF|    SALVIO Eduardo|       SALVIO|    SL Benfica (POR)|   167|  69| 13| 07|1990|     1990-07-13|          23|\n",
            "|Australia|    12|     GK|        JONES Brad|        JONES|Feyenoord Rotterd...|   193|  87| 19| 03|1982|     1982-03-19|           1|\n",
            "|Australia|     9|     FW|        JURIC Tomi|        JURIC|     FC Luzern (SUI)|   190|  80| 22| 07|1991|     1991-07-22|           2|\n",
            "|Australia|     6|     DF|    JURMAN Matthew|       JURMAN|Suwon Samsung Blu...|   190|  83| 08| 12|1989|     1989-12-08|           3|\n",
            "|Australia|    23|     MF|         ROGIC Tom|        ROGIC|     Celtic FC (SCO)|   189|  88| 16| 12|1992|     1992-12-16|           4|\n",
            "|Australia|    15|     MF|      JEDINAK Mile|      JEDINAK|Aston Villa FC (ENG)|   188|  78| 03| 08|1984|     1984-08-03|           5|\n",
            "|Australia|     2|     DF|     DEGENEK Milos|      DEGENEK|Yokohama F-Marino...|   187|  85| 28| 04|1994|     1994-04-28|           6|\n",
            "|Australia|    18|     GK|     VUKOVIC Danny|      VUKOVIC|      KRC Genk (BEL)|   187|  94| 27| 03|1985|     1985-03-27|           7|\n",
            "|Australia|     1|     GK|       RYAN Mathew|         RYAN|Brighton & Hove A...|   184|  82| 08| 04|1992|     1992-04-08|           8|\n",
            "|Australia|    20|     DF|   SAINSBURY Trent|    SAINSBURY|Grasshopper Club ...|   183|  76| 05| 01|1992|     1992-01-05|           9|\n",
            "|Australia|     7|     FW|     LECKIE Mathew|       LECKIE|    Hertha BSC (GER)|   181|  84| 04| 02|1991|     1991-02-04|          10|\n",
            "|Australia|    10|     FW|      KRUSE Robbie|        KRUSE|    VfL Bochum (GER)|   180|  66| 05| 10|1988|     1988-10-05|          11|\n",
            "|Australia|     4|     FW|        CAHILL Tim|       CAHILL|   Millwall FC (ENG)|   180|  76| 06| 12|1979|     1979-12-06|          12|\n",
            "|Australia|    22|     MF|    IRVINE Jackson|       IRVINE|  Hull City FC (ENG)|   180|  77| 07| 03|1993|     1993-03-07|          13|\n",
            "|Australia|     3|     DF|    MEREDITH James|     MEREDITH|   Millwall FC (ENG)|   179|  71| 05| 04|1988|     1988-04-05|          14|\n",
            "|Australia|    14|     FW|    MacLAREN Jamie|     MACLAREN|  Hibernian FC (SCO)|   178|  72| 29| 07|1993|     1993-07-29|          15|\n",
            "|Australia|     5|     DF|     MILLIGAN Mark|     MILLIGAN|    Al Ahli SC (KSA)|   178|  78| 04| 08|1985|     1985-08-04|          16|\n",
            "|Australia|    11|     FW|    NABBOUT Andrew|      NABBOUT|    Urawa Reds (JPN)|   178|  85| 17| 12|1992|     1992-12-17|          17|\n",
            "|Australia|    21|     FW|PETRATOS Dimitrios|     PETRATOS|Newcastle United ...|   176|  72| 10| 11|1992|     1992-11-10|          18|\n",
            "|Australia|     8|     MF|    LUONGO Massimo|       LUONGO|Queens Park Range...|   176|  76| 25| 09|1992|     1992-09-25|          19|\n",
            "|Australia|    13|     MF|        MOOY Aaron|         MOOY|Huddersfield Town...|   173|  72| 15| 09|1990|     1990-09-15|          20|\n",
            "|Australia|    17|     FW|     ARZANI Daniel|       ARZANI|Melbourne City FC...|   171|  73| 04| 01|1999|     1999-01-04|          21|\n",
            "|Australia|    16|     DF|       BEHICH Aziz|       BEHICH|     Bursaspor (TUR)|   170|  63| 16| 12|1990|     1990-12-16|          22|\n",
            "|Australia|    19|     DF|     RISDON Joshua|       RISDON|WS Wanderers FC (...|   169|  70| 27| 07|1992|     1992-07-27|          23|\n",
            "|  Belgium|     1|     GK|  COURTOIS Thibaut|     COURTOIS|    Chelsea FC (ENG)|   199|  91| 11| 05|1992|     1992-05-11|           1|\n",
            "|  Belgium|    13|     GK|     CASTEELS Koen|     CASTEELS| VfL Wolfsburg (GER)|   197|  86| 25| 06|1992|     1992-06-25|           2|\n",
            "|  Belgium|     8|     MF| FELLAINI Marouane|     FELLAINI|Manchester United...|   194|  85| 22| 11|1987|     1987-11-22|           3|\n",
            "|  Belgium|    12|     GK|    MIGNOLET Simon|     MIGNOLET|  Liverpool FC (ENG)|   193|  87| 06| 03|1988|     1988-03-06|           4|\n",
            "+---------+------+-------+------------------+-------------+--------------------+------+----+---+---+----+---------------+------------+\n",
            "only showing top 50 rows\n",
            "\n"
          ]
        }
      ]
    },
    {
      "cell_type": "markdown",
      "source": [
        "###Window Function 2 - Ranking 1 - rank()"
      ],
      "metadata": {
        "id": "IiZsmTFj5n9d"
      }
    },
    {
      "cell_type": "code",
      "source": [
        "rank1 = Window.partitionBy('Selecao').orderBy(desc('Altura'))\n",
        "\n",
        "df.withColumn('rank', rank().over(rank1)).show(50)"
      ],
      "metadata": {
        "id": "yzTEC3XJlM2a",
        "colab": {
          "base_uri": "https://localhost:8080/"
        },
        "outputId": "6cf7efca-b18f-419f-fd57-1bd09e6a0d50"
      },
      "execution_count": 14,
      "outputs": [
        {
          "output_type": "stream",
          "name": "stdout",
          "text": [
            "+---------+------+-------+------------------+-------------+--------------------+------+----+---+---+----+---------------+----+\n",
            "|  Selecao|Numero|Posicao|         Nome_FIFA|Nome_Camiseta|                Time|Altura|Peso|Dia|Mes| Ano|Data_Nascimento|rank|\n",
            "+---------+------+-------+------------------+-------------+--------------------+------+----+---+---+----+---------------+----+\n",
            "|Argentina|     6|     DF|    FAZIO Federico|        FAZIO|       AS Roma (ITA)|   199|  85| 17| 03|1987|     1987-03-17|   1|\n",
            "|Argentina|     1|     GK|     GUZMAN Nahuel|       GUZMÁN|   Tigres UANL (MEX)|   192|  90| 10| 02|1986|     1986-02-10|   2|\n",
            "|Argentina|    16|     DF|       ROJO Marcos|         ROJO|Manchester United...|   189|  82| 20| 03|1990|     1990-03-20|   3|\n",
            "|Argentina|    12|     GK|     ARMANI Franco|       ARMANI|CA River Plate (ARG)|   189|  85| 16| 10|1986|     1986-10-16|   3|\n",
            "|Argentina|    23|     GK|CABALLERO Wilfredo|    CABALLERO|    Chelsea FC (ENG)|   186|  80| 28| 09|1981|     1981-09-28|   5|\n",
            "|Argentina|     9|     FW|   HIGUAIN Gonzalo|      HIGUAÍN|   Juventus FC (ITA)|   184|  75| 10| 12|1987|     1987-12-10|   6|\n",
            "|Argentina|     4|     DF|  ANSALDI Cristian|      ANSALDI|     Torino FC (ITA)|   181|  73| 20| 09|1986|     1986-09-20|   7|\n",
            "|Argentina|     2|     DF|   MERCADO Gabriel|      MERCADO|    Sevilla FC (ESP)|   181|  81| 18| 03|1987|     1987-03-18|   7|\n",
            "|Argentina|    17|     DF|  OTAMENDI Nicolas|     OTAMENDI|Manchester City F...|   181|  81| 12| 02|1988|     1988-02-12|   7|\n",
            "|Argentina|    13|     MF|  MEZA Maximiliano|         MEZA|CA Independiente ...|   180|  76| 15| 12|1992|     1992-12-15|  10|\n",
            "|Argentina|    11|     MF|    DI MARIA Angel|     DI MARÍA|Paris Saint-Germa...|   178|  75| 14| 02|1988|     1988-02-14|  11|\n",
            "|Argentina|    21|     FW|      DYBALA Paulo|       DYBALA|   Juventus FC (ITA)|   177|  73| 15| 11|1993|     1993-11-15|  12|\n",
            "|Argentina|    20|     MF|  LO CELSO Giovani|     LO CELSO|Paris Saint-Germa...|   177|  75| 09| 04|1996|     1996-04-09|  12|\n",
            "|Argentina|     5|     MF|      BIGLIA Lucas|       BIGLIA|      AC Milan (ITA)|   175|  73| 30| 01|1986|     1986-01-30|  14|\n",
            "|Argentina|     7|     MF|       BANEGA Ever|       BANEGA|    Sevilla FC (ESP)|   175|  73| 29| 06|1988|     1988-06-29|  14|\n",
            "|Argentina|    14|     DF| MASCHERANO Javier|   MASCHERANO|Hebei China Fortu...|   174|  73| 08| 06|1984|     1984-06-08|  16|\n",
            "|Argentina|    19|     FW|     AGUERO Sergio|       AGÜERO|Manchester City F...|   172|  74| 02| 06|1988|     1988-06-02|  17|\n",
            "|Argentina|     8|     DF|      ACUNA Marcos|        ACUÑA|   Sporting CP (POR)|   172|  77| 28| 10|1991|     1991-10-28|  17|\n",
            "|Argentina|    10|     FW|      MESSI Lionel|        MESSI|  FC Barcelona (ESP)|   170|  72| 24| 06|1987|     1987-06-24|  19|\n",
            "|Argentina|     3|     DF|TAGLIAFICO Nicolas|   TAGLIAFICO|      AFC Ajax (NED)|   169|  65| 31| 08|1992|     1992-08-31|  20|\n",
            "|Argentina|    22|     MF|    PAVON Cristian|        PAVÓN|CA Boca Juniors (...|   169|  65| 21| 01|1996|     1996-01-21|  20|\n",
            "|Argentina|    15|     MF|    LANZINI Manuel|      LANZINI|West Ham United F...|   167|  66| 15| 02|1993|     1993-02-15|  22|\n",
            "|Argentina|    18|     DF|    SALVIO Eduardo|       SALVIO|    SL Benfica (POR)|   167|  69| 13| 07|1990|     1990-07-13|  22|\n",
            "|Australia|    12|     GK|        JONES Brad|        JONES|Feyenoord Rotterd...|   193|  87| 19| 03|1982|     1982-03-19|   1|\n",
            "|Australia|     9|     FW|        JURIC Tomi|        JURIC|     FC Luzern (SUI)|   190|  80| 22| 07|1991|     1991-07-22|   2|\n",
            "|Australia|     6|     DF|    JURMAN Matthew|       JURMAN|Suwon Samsung Blu...|   190|  83| 08| 12|1989|     1989-12-08|   2|\n",
            "|Australia|    23|     MF|         ROGIC Tom|        ROGIC|     Celtic FC (SCO)|   189|  88| 16| 12|1992|     1992-12-16|   4|\n",
            "|Australia|    15|     MF|      JEDINAK Mile|      JEDINAK|Aston Villa FC (ENG)|   188|  78| 03| 08|1984|     1984-08-03|   5|\n",
            "|Australia|     2|     DF|     DEGENEK Milos|      DEGENEK|Yokohama F-Marino...|   187|  85| 28| 04|1994|     1994-04-28|   6|\n",
            "|Australia|    18|     GK|     VUKOVIC Danny|      VUKOVIC|      KRC Genk (BEL)|   187|  94| 27| 03|1985|     1985-03-27|   6|\n",
            "|Australia|     1|     GK|       RYAN Mathew|         RYAN|Brighton & Hove A...|   184|  82| 08| 04|1992|     1992-04-08|   8|\n",
            "|Australia|    20|     DF|   SAINSBURY Trent|    SAINSBURY|Grasshopper Club ...|   183|  76| 05| 01|1992|     1992-01-05|   9|\n",
            "|Australia|     7|     FW|     LECKIE Mathew|       LECKIE|    Hertha BSC (GER)|   181|  84| 04| 02|1991|     1991-02-04|  10|\n",
            "|Australia|    10|     FW|      KRUSE Robbie|        KRUSE|    VfL Bochum (GER)|   180|  66| 05| 10|1988|     1988-10-05|  11|\n",
            "|Australia|     4|     FW|        CAHILL Tim|       CAHILL|   Millwall FC (ENG)|   180|  76| 06| 12|1979|     1979-12-06|  11|\n",
            "|Australia|    22|     MF|    IRVINE Jackson|       IRVINE|  Hull City FC (ENG)|   180|  77| 07| 03|1993|     1993-03-07|  11|\n",
            "|Australia|     3|     DF|    MEREDITH James|     MEREDITH|   Millwall FC (ENG)|   179|  71| 05| 04|1988|     1988-04-05|  14|\n",
            "|Australia|    14|     FW|    MacLAREN Jamie|     MACLAREN|  Hibernian FC (SCO)|   178|  72| 29| 07|1993|     1993-07-29|  15|\n",
            "|Australia|     5|     DF|     MILLIGAN Mark|     MILLIGAN|    Al Ahli SC (KSA)|   178|  78| 04| 08|1985|     1985-08-04|  15|\n",
            "|Australia|    11|     FW|    NABBOUT Andrew|      NABBOUT|    Urawa Reds (JPN)|   178|  85| 17| 12|1992|     1992-12-17|  15|\n",
            "|Australia|    21|     FW|PETRATOS Dimitrios|     PETRATOS|Newcastle United ...|   176|  72| 10| 11|1992|     1992-11-10|  18|\n",
            "|Australia|     8|     MF|    LUONGO Massimo|       LUONGO|Queens Park Range...|   176|  76| 25| 09|1992|     1992-09-25|  18|\n",
            "|Australia|    13|     MF|        MOOY Aaron|         MOOY|Huddersfield Town...|   173|  72| 15| 09|1990|     1990-09-15|  20|\n",
            "|Australia|    17|     FW|     ARZANI Daniel|       ARZANI|Melbourne City FC...|   171|  73| 04| 01|1999|     1999-01-04|  21|\n",
            "|Australia|    16|     DF|       BEHICH Aziz|       BEHICH|     Bursaspor (TUR)|   170|  63| 16| 12|1990|     1990-12-16|  22|\n",
            "|Australia|    19|     DF|     RISDON Joshua|       RISDON|WS Wanderers FC (...|   169|  70| 27| 07|1992|     1992-07-27|  23|\n",
            "|  Belgium|     1|     GK|  COURTOIS Thibaut|     COURTOIS|    Chelsea FC (ENG)|   199|  91| 11| 05|1992|     1992-05-11|   1|\n",
            "|  Belgium|    13|     GK|     CASTEELS Koen|     CASTEELS| VfL Wolfsburg (GER)|   197|  86| 25| 06|1992|     1992-06-25|   2|\n",
            "|  Belgium|     8|     MF| FELLAINI Marouane|     FELLAINI|Manchester United...|   194|  85| 22| 11|1987|     1987-11-22|   3|\n",
            "|  Belgium|    12|     GK|    MIGNOLET Simon|     MIGNOLET|  Liverpool FC (ENG)|   193|  87| 06| 03|1988|     1988-03-06|   4|\n",
            "+---------+------+-------+------------------+-------------+--------------------+------+----+---+---+----+---------------+----+\n",
            "only showing top 50 rows\n",
            "\n"
          ]
        }
      ]
    },
    {
      "cell_type": "markdown",
      "source": [
        "###Window Function 3 - Ranking 2 - dense_rank()"
      ],
      "metadata": {
        "id": "n-NUhXdx6luj"
      }
    },
    {
      "cell_type": "code",
      "source": [
        "rank2 = Window.partitionBy('Selecao').orderBy(desc('Altura'))\n",
        "\n",
        "df.withColumn('rank2', dense_rank().over(rank2)).show(50)"
      ],
      "metadata": {
        "colab": {
          "base_uri": "https://localhost:8080/"
        },
        "id": "ZwkcH4Xg5_ax",
        "outputId": "f1a78197-a2cc-43f2-b842-e3df90b11e96"
      },
      "execution_count": 16,
      "outputs": [
        {
          "output_type": "stream",
          "name": "stdout",
          "text": [
            "+---------+------+-------+------------------+-------------+--------------------+------+----+---+---+----+---------------+-----+\n",
            "|  Selecao|Numero|Posicao|         Nome_FIFA|Nome_Camiseta|                Time|Altura|Peso|Dia|Mes| Ano|Data_Nascimento|rank2|\n",
            "+---------+------+-------+------------------+-------------+--------------------+------+----+---+---+----+---------------+-----+\n",
            "|Argentina|     6|     DF|    FAZIO Federico|        FAZIO|       AS Roma (ITA)|   199|  85| 17| 03|1987|     1987-03-17|    1|\n",
            "|Argentina|     1|     GK|     GUZMAN Nahuel|       GUZMÁN|   Tigres UANL (MEX)|   192|  90| 10| 02|1986|     1986-02-10|    2|\n",
            "|Argentina|    16|     DF|       ROJO Marcos|         ROJO|Manchester United...|   189|  82| 20| 03|1990|     1990-03-20|    3|\n",
            "|Argentina|    12|     GK|     ARMANI Franco|       ARMANI|CA River Plate (ARG)|   189|  85| 16| 10|1986|     1986-10-16|    3|\n",
            "|Argentina|    23|     GK|CABALLERO Wilfredo|    CABALLERO|    Chelsea FC (ENG)|   186|  80| 28| 09|1981|     1981-09-28|    4|\n",
            "|Argentina|     9|     FW|   HIGUAIN Gonzalo|      HIGUAÍN|   Juventus FC (ITA)|   184|  75| 10| 12|1987|     1987-12-10|    5|\n",
            "|Argentina|     4|     DF|  ANSALDI Cristian|      ANSALDI|     Torino FC (ITA)|   181|  73| 20| 09|1986|     1986-09-20|    6|\n",
            "|Argentina|     2|     DF|   MERCADO Gabriel|      MERCADO|    Sevilla FC (ESP)|   181|  81| 18| 03|1987|     1987-03-18|    6|\n",
            "|Argentina|    17|     DF|  OTAMENDI Nicolas|     OTAMENDI|Manchester City F...|   181|  81| 12| 02|1988|     1988-02-12|    6|\n",
            "|Argentina|    13|     MF|  MEZA Maximiliano|         MEZA|CA Independiente ...|   180|  76| 15| 12|1992|     1992-12-15|    7|\n",
            "|Argentina|    11|     MF|    DI MARIA Angel|     DI MARÍA|Paris Saint-Germa...|   178|  75| 14| 02|1988|     1988-02-14|    8|\n",
            "|Argentina|    21|     FW|      DYBALA Paulo|       DYBALA|   Juventus FC (ITA)|   177|  73| 15| 11|1993|     1993-11-15|    9|\n",
            "|Argentina|    20|     MF|  LO CELSO Giovani|     LO CELSO|Paris Saint-Germa...|   177|  75| 09| 04|1996|     1996-04-09|    9|\n",
            "|Argentina|     5|     MF|      BIGLIA Lucas|       BIGLIA|      AC Milan (ITA)|   175|  73| 30| 01|1986|     1986-01-30|   10|\n",
            "|Argentina|     7|     MF|       BANEGA Ever|       BANEGA|    Sevilla FC (ESP)|   175|  73| 29| 06|1988|     1988-06-29|   10|\n",
            "|Argentina|    14|     DF| MASCHERANO Javier|   MASCHERANO|Hebei China Fortu...|   174|  73| 08| 06|1984|     1984-06-08|   11|\n",
            "|Argentina|    19|     FW|     AGUERO Sergio|       AGÜERO|Manchester City F...|   172|  74| 02| 06|1988|     1988-06-02|   12|\n",
            "|Argentina|     8|     DF|      ACUNA Marcos|        ACUÑA|   Sporting CP (POR)|   172|  77| 28| 10|1991|     1991-10-28|   12|\n",
            "|Argentina|    10|     FW|      MESSI Lionel|        MESSI|  FC Barcelona (ESP)|   170|  72| 24| 06|1987|     1987-06-24|   13|\n",
            "|Argentina|     3|     DF|TAGLIAFICO Nicolas|   TAGLIAFICO|      AFC Ajax (NED)|   169|  65| 31| 08|1992|     1992-08-31|   14|\n",
            "|Argentina|    22|     MF|    PAVON Cristian|        PAVÓN|CA Boca Juniors (...|   169|  65| 21| 01|1996|     1996-01-21|   14|\n",
            "|Argentina|    15|     MF|    LANZINI Manuel|      LANZINI|West Ham United F...|   167|  66| 15| 02|1993|     1993-02-15|   15|\n",
            "|Argentina|    18|     DF|    SALVIO Eduardo|       SALVIO|    SL Benfica (POR)|   167|  69| 13| 07|1990|     1990-07-13|   15|\n",
            "|Australia|    12|     GK|        JONES Brad|        JONES|Feyenoord Rotterd...|   193|  87| 19| 03|1982|     1982-03-19|    1|\n",
            "|Australia|     9|     FW|        JURIC Tomi|        JURIC|     FC Luzern (SUI)|   190|  80| 22| 07|1991|     1991-07-22|    2|\n",
            "|Australia|     6|     DF|    JURMAN Matthew|       JURMAN|Suwon Samsung Blu...|   190|  83| 08| 12|1989|     1989-12-08|    2|\n",
            "|Australia|    23|     MF|         ROGIC Tom|        ROGIC|     Celtic FC (SCO)|   189|  88| 16| 12|1992|     1992-12-16|    3|\n",
            "|Australia|    15|     MF|      JEDINAK Mile|      JEDINAK|Aston Villa FC (ENG)|   188|  78| 03| 08|1984|     1984-08-03|    4|\n",
            "|Australia|     2|     DF|     DEGENEK Milos|      DEGENEK|Yokohama F-Marino...|   187|  85| 28| 04|1994|     1994-04-28|    5|\n",
            "|Australia|    18|     GK|     VUKOVIC Danny|      VUKOVIC|      KRC Genk (BEL)|   187|  94| 27| 03|1985|     1985-03-27|    5|\n",
            "|Australia|     1|     GK|       RYAN Mathew|         RYAN|Brighton & Hove A...|   184|  82| 08| 04|1992|     1992-04-08|    6|\n",
            "|Australia|    20|     DF|   SAINSBURY Trent|    SAINSBURY|Grasshopper Club ...|   183|  76| 05| 01|1992|     1992-01-05|    7|\n",
            "|Australia|     7|     FW|     LECKIE Mathew|       LECKIE|    Hertha BSC (GER)|   181|  84| 04| 02|1991|     1991-02-04|    8|\n",
            "|Australia|    10|     FW|      KRUSE Robbie|        KRUSE|    VfL Bochum (GER)|   180|  66| 05| 10|1988|     1988-10-05|    9|\n",
            "|Australia|     4|     FW|        CAHILL Tim|       CAHILL|   Millwall FC (ENG)|   180|  76| 06| 12|1979|     1979-12-06|    9|\n",
            "|Australia|    22|     MF|    IRVINE Jackson|       IRVINE|  Hull City FC (ENG)|   180|  77| 07| 03|1993|     1993-03-07|    9|\n",
            "|Australia|     3|     DF|    MEREDITH James|     MEREDITH|   Millwall FC (ENG)|   179|  71| 05| 04|1988|     1988-04-05|   10|\n",
            "|Australia|    14|     FW|    MacLAREN Jamie|     MACLAREN|  Hibernian FC (SCO)|   178|  72| 29| 07|1993|     1993-07-29|   11|\n",
            "|Australia|     5|     DF|     MILLIGAN Mark|     MILLIGAN|    Al Ahli SC (KSA)|   178|  78| 04| 08|1985|     1985-08-04|   11|\n",
            "|Australia|    11|     FW|    NABBOUT Andrew|      NABBOUT|    Urawa Reds (JPN)|   178|  85| 17| 12|1992|     1992-12-17|   11|\n",
            "|Australia|    21|     FW|PETRATOS Dimitrios|     PETRATOS|Newcastle United ...|   176|  72| 10| 11|1992|     1992-11-10|   12|\n",
            "|Australia|     8|     MF|    LUONGO Massimo|       LUONGO|Queens Park Range...|   176|  76| 25| 09|1992|     1992-09-25|   12|\n",
            "|Australia|    13|     MF|        MOOY Aaron|         MOOY|Huddersfield Town...|   173|  72| 15| 09|1990|     1990-09-15|   13|\n",
            "|Australia|    17|     FW|     ARZANI Daniel|       ARZANI|Melbourne City FC...|   171|  73| 04| 01|1999|     1999-01-04|   14|\n",
            "|Australia|    16|     DF|       BEHICH Aziz|       BEHICH|     Bursaspor (TUR)|   170|  63| 16| 12|1990|     1990-12-16|   15|\n",
            "|Australia|    19|     DF|     RISDON Joshua|       RISDON|WS Wanderers FC (...|   169|  70| 27| 07|1992|     1992-07-27|   16|\n",
            "|  Belgium|     1|     GK|  COURTOIS Thibaut|     COURTOIS|    Chelsea FC (ENG)|   199|  91| 11| 05|1992|     1992-05-11|    1|\n",
            "|  Belgium|    13|     GK|     CASTEELS Koen|     CASTEELS| VfL Wolfsburg (GER)|   197|  86| 25| 06|1992|     1992-06-25|    2|\n",
            "|  Belgium|     8|     MF| FELLAINI Marouane|     FELLAINI|Manchester United...|   194|  85| 22| 11|1987|     1987-11-22|    3|\n",
            "|  Belgium|    12|     GK|    MIGNOLET Simon|     MIGNOLET|  Liverpool FC (ENG)|   193|  87| 06| 03|1988|     1988-03-06|    4|\n",
            "+---------+------+-------+------------------+-------------+--------------------+------+----+---+---+----+---------------+-----+\n",
            "only showing top 50 rows\n",
            "\n"
          ]
        }
      ]
    },
    {
      "cell_type": "markdown",
      "source": [
        "###Window Function 4 - Porcentagem Ranking - percent_rank()"
      ],
      "metadata": {
        "id": "qLTAV6Jg68wX"
      }
    },
    {
      "cell_type": "code",
      "source": [
        "porcentagem = Window.partitionBy('Selecao').orderBy(desc('Altura'))\n",
        "\n",
        "df.withColumn('%', percent_rank().over(porcentagem)).show(50)"
      ],
      "metadata": {
        "colab": {
          "base_uri": "https://localhost:8080/"
        },
        "id": "keAlAhM97QIe",
        "outputId": "1d29b2a7-b213-4d7a-aaad-632cab01fbde"
      },
      "execution_count": 18,
      "outputs": [
        {
          "output_type": "stream",
          "name": "stdout",
          "text": [
            "+---------+------+-------+------------------+-------------+--------------------+------+----+---+---+----+---------------+--------------------+\n",
            "|  Selecao|Numero|Posicao|         Nome_FIFA|Nome_Camiseta|                Time|Altura|Peso|Dia|Mes| Ano|Data_Nascimento|                   %|\n",
            "+---------+------+-------+------------------+-------------+--------------------+------+----+---+---+----+---------------+--------------------+\n",
            "|Argentina|     6|     DF|    FAZIO Federico|        FAZIO|       AS Roma (ITA)|   199|  85| 17| 03|1987|     1987-03-17|                 0.0|\n",
            "|Argentina|     1|     GK|     GUZMAN Nahuel|       GUZMÁN|   Tigres UANL (MEX)|   192|  90| 10| 02|1986|     1986-02-10|0.045454545454545456|\n",
            "|Argentina|    16|     DF|       ROJO Marcos|         ROJO|Manchester United...|   189|  82| 20| 03|1990|     1990-03-20| 0.09090909090909091|\n",
            "|Argentina|    12|     GK|     ARMANI Franco|       ARMANI|CA River Plate (ARG)|   189|  85| 16| 10|1986|     1986-10-16| 0.09090909090909091|\n",
            "|Argentina|    23|     GK|CABALLERO Wilfredo|    CABALLERO|    Chelsea FC (ENG)|   186|  80| 28| 09|1981|     1981-09-28| 0.18181818181818182|\n",
            "|Argentina|     9|     FW|   HIGUAIN Gonzalo|      HIGUAÍN|   Juventus FC (ITA)|   184|  75| 10| 12|1987|     1987-12-10| 0.22727272727272727|\n",
            "|Argentina|     4|     DF|  ANSALDI Cristian|      ANSALDI|     Torino FC (ITA)|   181|  73| 20| 09|1986|     1986-09-20|  0.2727272727272727|\n",
            "|Argentina|     2|     DF|   MERCADO Gabriel|      MERCADO|    Sevilla FC (ESP)|   181|  81| 18| 03|1987|     1987-03-18|  0.2727272727272727|\n",
            "|Argentina|    17|     DF|  OTAMENDI Nicolas|     OTAMENDI|Manchester City F...|   181|  81| 12| 02|1988|     1988-02-12|  0.2727272727272727|\n",
            "|Argentina|    13|     MF|  MEZA Maximiliano|         MEZA|CA Independiente ...|   180|  76| 15| 12|1992|     1992-12-15|  0.4090909090909091|\n",
            "|Argentina|    11|     MF|    DI MARIA Angel|     DI MARÍA|Paris Saint-Germa...|   178|  75| 14| 02|1988|     1988-02-14| 0.45454545454545453|\n",
            "|Argentina|    21|     FW|      DYBALA Paulo|       DYBALA|   Juventus FC (ITA)|   177|  73| 15| 11|1993|     1993-11-15|                 0.5|\n",
            "|Argentina|    20|     MF|  LO CELSO Giovani|     LO CELSO|Paris Saint-Germa...|   177|  75| 09| 04|1996|     1996-04-09|                 0.5|\n",
            "|Argentina|     5|     MF|      BIGLIA Lucas|       BIGLIA|      AC Milan (ITA)|   175|  73| 30| 01|1986|     1986-01-30|  0.5909090909090909|\n",
            "|Argentina|     7|     MF|       BANEGA Ever|       BANEGA|    Sevilla FC (ESP)|   175|  73| 29| 06|1988|     1988-06-29|  0.5909090909090909|\n",
            "|Argentina|    14|     DF| MASCHERANO Javier|   MASCHERANO|Hebei China Fortu...|   174|  73| 08| 06|1984|     1984-06-08|  0.6818181818181818|\n",
            "|Argentina|    19|     FW|     AGUERO Sergio|       AGÜERO|Manchester City F...|   172|  74| 02| 06|1988|     1988-06-02|  0.7272727272727273|\n",
            "|Argentina|     8|     DF|      ACUNA Marcos|        ACUÑA|   Sporting CP (POR)|   172|  77| 28| 10|1991|     1991-10-28|  0.7272727272727273|\n",
            "|Argentina|    10|     FW|      MESSI Lionel|        MESSI|  FC Barcelona (ESP)|   170|  72| 24| 06|1987|     1987-06-24|  0.8181818181818182|\n",
            "|Argentina|     3|     DF|TAGLIAFICO Nicolas|   TAGLIAFICO|      AFC Ajax (NED)|   169|  65| 31| 08|1992|     1992-08-31|  0.8636363636363636|\n",
            "|Argentina|    22|     MF|    PAVON Cristian|        PAVÓN|CA Boca Juniors (...|   169|  65| 21| 01|1996|     1996-01-21|  0.8636363636363636|\n",
            "|Argentina|    15|     MF|    LANZINI Manuel|      LANZINI|West Ham United F...|   167|  66| 15| 02|1993|     1993-02-15|  0.9545454545454546|\n",
            "|Argentina|    18|     DF|    SALVIO Eduardo|       SALVIO|    SL Benfica (POR)|   167|  69| 13| 07|1990|     1990-07-13|  0.9545454545454546|\n",
            "|Australia|    12|     GK|        JONES Brad|        JONES|Feyenoord Rotterd...|   193|  87| 19| 03|1982|     1982-03-19|                 0.0|\n",
            "|Australia|     9|     FW|        JURIC Tomi|        JURIC|     FC Luzern (SUI)|   190|  80| 22| 07|1991|     1991-07-22|0.045454545454545456|\n",
            "|Australia|     6|     DF|    JURMAN Matthew|       JURMAN|Suwon Samsung Blu...|   190|  83| 08| 12|1989|     1989-12-08|0.045454545454545456|\n",
            "|Australia|    23|     MF|         ROGIC Tom|        ROGIC|     Celtic FC (SCO)|   189|  88| 16| 12|1992|     1992-12-16| 0.13636363636363635|\n",
            "|Australia|    15|     MF|      JEDINAK Mile|      JEDINAK|Aston Villa FC (ENG)|   188|  78| 03| 08|1984|     1984-08-03| 0.18181818181818182|\n",
            "|Australia|     2|     DF|     DEGENEK Milos|      DEGENEK|Yokohama F-Marino...|   187|  85| 28| 04|1994|     1994-04-28| 0.22727272727272727|\n",
            "|Australia|    18|     GK|     VUKOVIC Danny|      VUKOVIC|      KRC Genk (BEL)|   187|  94| 27| 03|1985|     1985-03-27| 0.22727272727272727|\n",
            "|Australia|     1|     GK|       RYAN Mathew|         RYAN|Brighton & Hove A...|   184|  82| 08| 04|1992|     1992-04-08|  0.3181818181818182|\n",
            "|Australia|    20|     DF|   SAINSBURY Trent|    SAINSBURY|Grasshopper Club ...|   183|  76| 05| 01|1992|     1992-01-05| 0.36363636363636365|\n",
            "|Australia|     7|     FW|     LECKIE Mathew|       LECKIE|    Hertha BSC (GER)|   181|  84| 04| 02|1991|     1991-02-04|  0.4090909090909091|\n",
            "|Australia|    10|     FW|      KRUSE Robbie|        KRUSE|    VfL Bochum (GER)|   180|  66| 05| 10|1988|     1988-10-05| 0.45454545454545453|\n",
            "|Australia|     4|     FW|        CAHILL Tim|       CAHILL|   Millwall FC (ENG)|   180|  76| 06| 12|1979|     1979-12-06| 0.45454545454545453|\n",
            "|Australia|    22|     MF|    IRVINE Jackson|       IRVINE|  Hull City FC (ENG)|   180|  77| 07| 03|1993|     1993-03-07| 0.45454545454545453|\n",
            "|Australia|     3|     DF|    MEREDITH James|     MEREDITH|   Millwall FC (ENG)|   179|  71| 05| 04|1988|     1988-04-05|  0.5909090909090909|\n",
            "|Australia|    14|     FW|    MacLAREN Jamie|     MACLAREN|  Hibernian FC (SCO)|   178|  72| 29| 07|1993|     1993-07-29|  0.6363636363636364|\n",
            "|Australia|     5|     DF|     MILLIGAN Mark|     MILLIGAN|    Al Ahli SC (KSA)|   178|  78| 04| 08|1985|     1985-08-04|  0.6363636363636364|\n",
            "|Australia|    11|     FW|    NABBOUT Andrew|      NABBOUT|    Urawa Reds (JPN)|   178|  85| 17| 12|1992|     1992-12-17|  0.6363636363636364|\n",
            "|Australia|    21|     FW|PETRATOS Dimitrios|     PETRATOS|Newcastle United ...|   176|  72| 10| 11|1992|     1992-11-10|  0.7727272727272727|\n",
            "|Australia|     8|     MF|    LUONGO Massimo|       LUONGO|Queens Park Range...|   176|  76| 25| 09|1992|     1992-09-25|  0.7727272727272727|\n",
            "|Australia|    13|     MF|        MOOY Aaron|         MOOY|Huddersfield Town...|   173|  72| 15| 09|1990|     1990-09-15|  0.8636363636363636|\n",
            "|Australia|    17|     FW|     ARZANI Daniel|       ARZANI|Melbourne City FC...|   171|  73| 04| 01|1999|     1999-01-04|  0.9090909090909091|\n",
            "|Australia|    16|     DF|       BEHICH Aziz|       BEHICH|     Bursaspor (TUR)|   170|  63| 16| 12|1990|     1990-12-16|  0.9545454545454546|\n",
            "|Australia|    19|     DF|     RISDON Joshua|       RISDON|WS Wanderers FC (...|   169|  70| 27| 07|1992|     1992-07-27|                 1.0|\n",
            "|  Belgium|     1|     GK|  COURTOIS Thibaut|     COURTOIS|    Chelsea FC (ENG)|   199|  91| 11| 05|1992|     1992-05-11|                 0.0|\n",
            "|  Belgium|    13|     GK|     CASTEELS Koen|     CASTEELS| VfL Wolfsburg (GER)|   197|  86| 25| 06|1992|     1992-06-25|0.045454545454545456|\n",
            "|  Belgium|     8|     MF| FELLAINI Marouane|     FELLAINI|Manchester United...|   194|  85| 22| 11|1987|     1987-11-22| 0.09090909090909091|\n",
            "|  Belgium|    12|     GK|    MIGNOLET Simon|     MIGNOLET|  Liverpool FC (ENG)|   193|  87| 06| 03|1988|     1988-03-06| 0.13636363636363635|\n",
            "+---------+------+-------+------------------+-------------+--------------------+------+----+---+---+----+---------------+--------------------+\n",
            "only showing top 50 rows\n",
            "\n"
          ]
        }
      ]
    },
    {
      "cell_type": "markdown",
      "source": [
        "###Window Function 5 - Divisão em 'N' partes - ntile()"
      ],
      "metadata": {
        "id": "8X0_eLIl7Shk"
      }
    },
    {
      "cell_type": "code",
      "source": [
        "parte = Window.partitionBy('Selecao').orderBy(desc('Altura'))\n",
        "\n",
        "df.withColumn('partes', ntile(3).over(parte)).show(50)"
      ],
      "metadata": {
        "colab": {
          "base_uri": "https://localhost:8080/"
        },
        "id": "nB_FXBTU7Tnm",
        "outputId": "a1064501-1737-4017-ba6a-6970a57083a5"
      },
      "execution_count": 23,
      "outputs": [
        {
          "output_type": "stream",
          "name": "stdout",
          "text": [
            "+---------+------+-------+------------------+-------------+--------------------+------+----+---+---+----+---------------+------+\n",
            "|  Selecao|Numero|Posicao|         Nome_FIFA|Nome_Camiseta|                Time|Altura|Peso|Dia|Mes| Ano|Data_Nascimento|partes|\n",
            "+---------+------+-------+------------------+-------------+--------------------+------+----+---+---+----+---------------+------+\n",
            "|Argentina|     6|     DF|    FAZIO Federico|        FAZIO|       AS Roma (ITA)|   199|  85| 17| 03|1987|     1987-03-17|     1|\n",
            "|Argentina|     1|     GK|     GUZMAN Nahuel|       GUZMÁN|   Tigres UANL (MEX)|   192|  90| 10| 02|1986|     1986-02-10|     1|\n",
            "|Argentina|    16|     DF|       ROJO Marcos|         ROJO|Manchester United...|   189|  82| 20| 03|1990|     1990-03-20|     1|\n",
            "|Argentina|    12|     GK|     ARMANI Franco|       ARMANI|CA River Plate (ARG)|   189|  85| 16| 10|1986|     1986-10-16|     1|\n",
            "|Argentina|    23|     GK|CABALLERO Wilfredo|    CABALLERO|    Chelsea FC (ENG)|   186|  80| 28| 09|1981|     1981-09-28|     1|\n",
            "|Argentina|     9|     FW|   HIGUAIN Gonzalo|      HIGUAÍN|   Juventus FC (ITA)|   184|  75| 10| 12|1987|     1987-12-10|     1|\n",
            "|Argentina|     4|     DF|  ANSALDI Cristian|      ANSALDI|     Torino FC (ITA)|   181|  73| 20| 09|1986|     1986-09-20|     1|\n",
            "|Argentina|     2|     DF|   MERCADO Gabriel|      MERCADO|    Sevilla FC (ESP)|   181|  81| 18| 03|1987|     1987-03-18|     1|\n",
            "|Argentina|    17|     DF|  OTAMENDI Nicolas|     OTAMENDI|Manchester City F...|   181|  81| 12| 02|1988|     1988-02-12|     2|\n",
            "|Argentina|    13|     MF|  MEZA Maximiliano|         MEZA|CA Independiente ...|   180|  76| 15| 12|1992|     1992-12-15|     2|\n",
            "|Argentina|    11|     MF|    DI MARIA Angel|     DI MARÍA|Paris Saint-Germa...|   178|  75| 14| 02|1988|     1988-02-14|     2|\n",
            "|Argentina|    21|     FW|      DYBALA Paulo|       DYBALA|   Juventus FC (ITA)|   177|  73| 15| 11|1993|     1993-11-15|     2|\n",
            "|Argentina|    20|     MF|  LO CELSO Giovani|     LO CELSO|Paris Saint-Germa...|   177|  75| 09| 04|1996|     1996-04-09|     2|\n",
            "|Argentina|     5|     MF|      BIGLIA Lucas|       BIGLIA|      AC Milan (ITA)|   175|  73| 30| 01|1986|     1986-01-30|     2|\n",
            "|Argentina|     7|     MF|       BANEGA Ever|       BANEGA|    Sevilla FC (ESP)|   175|  73| 29| 06|1988|     1988-06-29|     2|\n",
            "|Argentina|    14|     DF| MASCHERANO Javier|   MASCHERANO|Hebei China Fortu...|   174|  73| 08| 06|1984|     1984-06-08|     2|\n",
            "|Argentina|    19|     FW|     AGUERO Sergio|       AGÜERO|Manchester City F...|   172|  74| 02| 06|1988|     1988-06-02|     3|\n",
            "|Argentina|     8|     DF|      ACUNA Marcos|        ACUÑA|   Sporting CP (POR)|   172|  77| 28| 10|1991|     1991-10-28|     3|\n",
            "|Argentina|    10|     FW|      MESSI Lionel|        MESSI|  FC Barcelona (ESP)|   170|  72| 24| 06|1987|     1987-06-24|     3|\n",
            "|Argentina|     3|     DF|TAGLIAFICO Nicolas|   TAGLIAFICO|      AFC Ajax (NED)|   169|  65| 31| 08|1992|     1992-08-31|     3|\n",
            "|Argentina|    22|     MF|    PAVON Cristian|        PAVÓN|CA Boca Juniors (...|   169|  65| 21| 01|1996|     1996-01-21|     3|\n",
            "|Argentina|    15|     MF|    LANZINI Manuel|      LANZINI|West Ham United F...|   167|  66| 15| 02|1993|     1993-02-15|     3|\n",
            "|Argentina|    18|     DF|    SALVIO Eduardo|       SALVIO|    SL Benfica (POR)|   167|  69| 13| 07|1990|     1990-07-13|     3|\n",
            "|Australia|    12|     GK|        JONES Brad|        JONES|Feyenoord Rotterd...|   193|  87| 19| 03|1982|     1982-03-19|     1|\n",
            "|Australia|     9|     FW|        JURIC Tomi|        JURIC|     FC Luzern (SUI)|   190|  80| 22| 07|1991|     1991-07-22|     1|\n",
            "|Australia|     6|     DF|    JURMAN Matthew|       JURMAN|Suwon Samsung Blu...|   190|  83| 08| 12|1989|     1989-12-08|     1|\n",
            "|Australia|    23|     MF|         ROGIC Tom|        ROGIC|     Celtic FC (SCO)|   189|  88| 16| 12|1992|     1992-12-16|     1|\n",
            "|Australia|    15|     MF|      JEDINAK Mile|      JEDINAK|Aston Villa FC (ENG)|   188|  78| 03| 08|1984|     1984-08-03|     1|\n",
            "|Australia|     2|     DF|     DEGENEK Milos|      DEGENEK|Yokohama F-Marino...|   187|  85| 28| 04|1994|     1994-04-28|     1|\n",
            "|Australia|    18|     GK|     VUKOVIC Danny|      VUKOVIC|      KRC Genk (BEL)|   187|  94| 27| 03|1985|     1985-03-27|     1|\n",
            "|Australia|     1|     GK|       RYAN Mathew|         RYAN|Brighton & Hove A...|   184|  82| 08| 04|1992|     1992-04-08|     1|\n",
            "|Australia|    20|     DF|   SAINSBURY Trent|    SAINSBURY|Grasshopper Club ...|   183|  76| 05| 01|1992|     1992-01-05|     2|\n",
            "|Australia|     7|     FW|     LECKIE Mathew|       LECKIE|    Hertha BSC (GER)|   181|  84| 04| 02|1991|     1991-02-04|     2|\n",
            "|Australia|    10|     FW|      KRUSE Robbie|        KRUSE|    VfL Bochum (GER)|   180|  66| 05| 10|1988|     1988-10-05|     2|\n",
            "|Australia|     4|     FW|        CAHILL Tim|       CAHILL|   Millwall FC (ENG)|   180|  76| 06| 12|1979|     1979-12-06|     2|\n",
            "|Australia|    22|     MF|    IRVINE Jackson|       IRVINE|  Hull City FC (ENG)|   180|  77| 07| 03|1993|     1993-03-07|     2|\n",
            "|Australia|     3|     DF|    MEREDITH James|     MEREDITH|   Millwall FC (ENG)|   179|  71| 05| 04|1988|     1988-04-05|     2|\n",
            "|Australia|    14|     FW|    MacLAREN Jamie|     MACLAREN|  Hibernian FC (SCO)|   178|  72| 29| 07|1993|     1993-07-29|     2|\n",
            "|Australia|     5|     DF|     MILLIGAN Mark|     MILLIGAN|    Al Ahli SC (KSA)|   178|  78| 04| 08|1985|     1985-08-04|     2|\n",
            "|Australia|    11|     FW|    NABBOUT Andrew|      NABBOUT|    Urawa Reds (JPN)|   178|  85| 17| 12|1992|     1992-12-17|     3|\n",
            "|Australia|    21|     FW|PETRATOS Dimitrios|     PETRATOS|Newcastle United ...|   176|  72| 10| 11|1992|     1992-11-10|     3|\n",
            "|Australia|     8|     MF|    LUONGO Massimo|       LUONGO|Queens Park Range...|   176|  76| 25| 09|1992|     1992-09-25|     3|\n",
            "|Australia|    13|     MF|        MOOY Aaron|         MOOY|Huddersfield Town...|   173|  72| 15| 09|1990|     1990-09-15|     3|\n",
            "|Australia|    17|     FW|     ARZANI Daniel|       ARZANI|Melbourne City FC...|   171|  73| 04| 01|1999|     1999-01-04|     3|\n",
            "|Australia|    16|     DF|       BEHICH Aziz|       BEHICH|     Bursaspor (TUR)|   170|  63| 16| 12|1990|     1990-12-16|     3|\n",
            "|Australia|    19|     DF|     RISDON Joshua|       RISDON|WS Wanderers FC (...|   169|  70| 27| 07|1992|     1992-07-27|     3|\n",
            "|  Belgium|     1|     GK|  COURTOIS Thibaut|     COURTOIS|    Chelsea FC (ENG)|   199|  91| 11| 05|1992|     1992-05-11|     1|\n",
            "|  Belgium|    13|     GK|     CASTEELS Koen|     CASTEELS| VfL Wolfsburg (GER)|   197|  86| 25| 06|1992|     1992-06-25|     1|\n",
            "|  Belgium|     8|     MF| FELLAINI Marouane|     FELLAINI|Manchester United...|   194|  85| 22| 11|1987|     1987-11-22|     1|\n",
            "|  Belgium|    12|     GK|    MIGNOLET Simon|     MIGNOLET|  Liverpool FC (ENG)|   193|  87| 06| 03|1988|     1988-03-06|     1|\n",
            "+---------+------+-------+------------------+-------------+--------------------+------+----+---+---+----+---------------+------+\n",
            "only showing top 50 rows\n",
            "\n"
          ]
        }
      ]
    },
    {
      "cell_type": "markdown",
      "source": [
        "###Window Analytic Functions (Funções Analíticas)"
      ],
      "metadata": {
        "id": "mrnh760e-MXq"
      }
    },
    {
      "cell_type": "markdown",
      "source": [
        "###Window Function 6 - LAG/Degrau - lag()"
      ],
      "metadata": {
        "id": "3lGhnmlj-NhM"
      }
    },
    {
      "cell_type": "code",
      "source": [
        "degrau = Window.partitionBy('Selecao').orderBy(desc('Altura'))\n",
        "df.withColumn('degrau', lag('Altura').over(degrau)).show(50)"
      ],
      "metadata": {
        "colab": {
          "base_uri": "https://localhost:8080/"
        },
        "id": "bmhfKc5U-d7d",
        "outputId": "33430ba8-e3c3-4f30-83cb-57154de01ba6"
      },
      "execution_count": 26,
      "outputs": [
        {
          "output_type": "stream",
          "name": "stdout",
          "text": [
            "+---------+------+-------+------------------+-------------+--------------------+------+----+---+---+----+---------------+------+\n",
            "|  Selecao|Numero|Posicao|         Nome_FIFA|Nome_Camiseta|                Time|Altura|Peso|Dia|Mes| Ano|Data_Nascimento|degrau|\n",
            "+---------+------+-------+------------------+-------------+--------------------+------+----+---+---+----+---------------+------+\n",
            "|Argentina|     6|     DF|    FAZIO Federico|        FAZIO|       AS Roma (ITA)|   199|  85| 17| 03|1987|     1987-03-17|  NULL|\n",
            "|Argentina|     1|     GK|     GUZMAN Nahuel|       GUZMÁN|   Tigres UANL (MEX)|   192|  90| 10| 02|1986|     1986-02-10|   199|\n",
            "|Argentina|    16|     DF|       ROJO Marcos|         ROJO|Manchester United...|   189|  82| 20| 03|1990|     1990-03-20|   192|\n",
            "|Argentina|    12|     GK|     ARMANI Franco|       ARMANI|CA River Plate (ARG)|   189|  85| 16| 10|1986|     1986-10-16|   189|\n",
            "|Argentina|    23|     GK|CABALLERO Wilfredo|    CABALLERO|    Chelsea FC (ENG)|   186|  80| 28| 09|1981|     1981-09-28|   189|\n",
            "|Argentina|     9|     FW|   HIGUAIN Gonzalo|      HIGUAÍN|   Juventus FC (ITA)|   184|  75| 10| 12|1987|     1987-12-10|   186|\n",
            "|Argentina|     4|     DF|  ANSALDI Cristian|      ANSALDI|     Torino FC (ITA)|   181|  73| 20| 09|1986|     1986-09-20|   184|\n",
            "|Argentina|     2|     DF|   MERCADO Gabriel|      MERCADO|    Sevilla FC (ESP)|   181|  81| 18| 03|1987|     1987-03-18|   181|\n",
            "|Argentina|    17|     DF|  OTAMENDI Nicolas|     OTAMENDI|Manchester City F...|   181|  81| 12| 02|1988|     1988-02-12|   181|\n",
            "|Argentina|    13|     MF|  MEZA Maximiliano|         MEZA|CA Independiente ...|   180|  76| 15| 12|1992|     1992-12-15|   181|\n",
            "|Argentina|    11|     MF|    DI MARIA Angel|     DI MARÍA|Paris Saint-Germa...|   178|  75| 14| 02|1988|     1988-02-14|   180|\n",
            "|Argentina|    21|     FW|      DYBALA Paulo|       DYBALA|   Juventus FC (ITA)|   177|  73| 15| 11|1993|     1993-11-15|   178|\n",
            "|Argentina|    20|     MF|  LO CELSO Giovani|     LO CELSO|Paris Saint-Germa...|   177|  75| 09| 04|1996|     1996-04-09|   177|\n",
            "|Argentina|     5|     MF|      BIGLIA Lucas|       BIGLIA|      AC Milan (ITA)|   175|  73| 30| 01|1986|     1986-01-30|   177|\n",
            "|Argentina|     7|     MF|       BANEGA Ever|       BANEGA|    Sevilla FC (ESP)|   175|  73| 29| 06|1988|     1988-06-29|   175|\n",
            "|Argentina|    14|     DF| MASCHERANO Javier|   MASCHERANO|Hebei China Fortu...|   174|  73| 08| 06|1984|     1984-06-08|   175|\n",
            "|Argentina|    19|     FW|     AGUERO Sergio|       AGÜERO|Manchester City F...|   172|  74| 02| 06|1988|     1988-06-02|   174|\n",
            "|Argentina|     8|     DF|      ACUNA Marcos|        ACUÑA|   Sporting CP (POR)|   172|  77| 28| 10|1991|     1991-10-28|   172|\n",
            "|Argentina|    10|     FW|      MESSI Lionel|        MESSI|  FC Barcelona (ESP)|   170|  72| 24| 06|1987|     1987-06-24|   172|\n",
            "|Argentina|     3|     DF|TAGLIAFICO Nicolas|   TAGLIAFICO|      AFC Ajax (NED)|   169|  65| 31| 08|1992|     1992-08-31|   170|\n",
            "|Argentina|    22|     MF|    PAVON Cristian|        PAVÓN|CA Boca Juniors (...|   169|  65| 21| 01|1996|     1996-01-21|   169|\n",
            "|Argentina|    15|     MF|    LANZINI Manuel|      LANZINI|West Ham United F...|   167|  66| 15| 02|1993|     1993-02-15|   169|\n",
            "|Argentina|    18|     DF|    SALVIO Eduardo|       SALVIO|    SL Benfica (POR)|   167|  69| 13| 07|1990|     1990-07-13|   167|\n",
            "|Australia|    12|     GK|        JONES Brad|        JONES|Feyenoord Rotterd...|   193|  87| 19| 03|1982|     1982-03-19|  NULL|\n",
            "|Australia|     9|     FW|        JURIC Tomi|        JURIC|     FC Luzern (SUI)|   190|  80| 22| 07|1991|     1991-07-22|   193|\n",
            "|Australia|     6|     DF|    JURMAN Matthew|       JURMAN|Suwon Samsung Blu...|   190|  83| 08| 12|1989|     1989-12-08|   190|\n",
            "|Australia|    23|     MF|         ROGIC Tom|        ROGIC|     Celtic FC (SCO)|   189|  88| 16| 12|1992|     1992-12-16|   190|\n",
            "|Australia|    15|     MF|      JEDINAK Mile|      JEDINAK|Aston Villa FC (ENG)|   188|  78| 03| 08|1984|     1984-08-03|   189|\n",
            "|Australia|     2|     DF|     DEGENEK Milos|      DEGENEK|Yokohama F-Marino...|   187|  85| 28| 04|1994|     1994-04-28|   188|\n",
            "|Australia|    18|     GK|     VUKOVIC Danny|      VUKOVIC|      KRC Genk (BEL)|   187|  94| 27| 03|1985|     1985-03-27|   187|\n",
            "|Australia|     1|     GK|       RYAN Mathew|         RYAN|Brighton & Hove A...|   184|  82| 08| 04|1992|     1992-04-08|   187|\n",
            "|Australia|    20|     DF|   SAINSBURY Trent|    SAINSBURY|Grasshopper Club ...|   183|  76| 05| 01|1992|     1992-01-05|   184|\n",
            "|Australia|     7|     FW|     LECKIE Mathew|       LECKIE|    Hertha BSC (GER)|   181|  84| 04| 02|1991|     1991-02-04|   183|\n",
            "|Australia|    10|     FW|      KRUSE Robbie|        KRUSE|    VfL Bochum (GER)|   180|  66| 05| 10|1988|     1988-10-05|   181|\n",
            "|Australia|     4|     FW|        CAHILL Tim|       CAHILL|   Millwall FC (ENG)|   180|  76| 06| 12|1979|     1979-12-06|   180|\n",
            "|Australia|    22|     MF|    IRVINE Jackson|       IRVINE|  Hull City FC (ENG)|   180|  77| 07| 03|1993|     1993-03-07|   180|\n",
            "|Australia|     3|     DF|    MEREDITH James|     MEREDITH|   Millwall FC (ENG)|   179|  71| 05| 04|1988|     1988-04-05|   180|\n",
            "|Australia|    14|     FW|    MacLAREN Jamie|     MACLAREN|  Hibernian FC (SCO)|   178|  72| 29| 07|1993|     1993-07-29|   179|\n",
            "|Australia|     5|     DF|     MILLIGAN Mark|     MILLIGAN|    Al Ahli SC (KSA)|   178|  78| 04| 08|1985|     1985-08-04|   178|\n",
            "|Australia|    11|     FW|    NABBOUT Andrew|      NABBOUT|    Urawa Reds (JPN)|   178|  85| 17| 12|1992|     1992-12-17|   178|\n",
            "|Australia|    21|     FW|PETRATOS Dimitrios|     PETRATOS|Newcastle United ...|   176|  72| 10| 11|1992|     1992-11-10|   178|\n",
            "|Australia|     8|     MF|    LUONGO Massimo|       LUONGO|Queens Park Range...|   176|  76| 25| 09|1992|     1992-09-25|   176|\n",
            "|Australia|    13|     MF|        MOOY Aaron|         MOOY|Huddersfield Town...|   173|  72| 15| 09|1990|     1990-09-15|   176|\n",
            "|Australia|    17|     FW|     ARZANI Daniel|       ARZANI|Melbourne City FC...|   171|  73| 04| 01|1999|     1999-01-04|   173|\n",
            "|Australia|    16|     DF|       BEHICH Aziz|       BEHICH|     Bursaspor (TUR)|   170|  63| 16| 12|1990|     1990-12-16|   171|\n",
            "|Australia|    19|     DF|     RISDON Joshua|       RISDON|WS Wanderers FC (...|   169|  70| 27| 07|1992|     1992-07-27|   170|\n",
            "|  Belgium|     1|     GK|  COURTOIS Thibaut|     COURTOIS|    Chelsea FC (ENG)|   199|  91| 11| 05|1992|     1992-05-11|  NULL|\n",
            "|  Belgium|    13|     GK|     CASTEELS Koen|     CASTEELS| VfL Wolfsburg (GER)|   197|  86| 25| 06|1992|     1992-06-25|   199|\n",
            "|  Belgium|     8|     MF| FELLAINI Marouane|     FELLAINI|Manchester United...|   194|  85| 22| 11|1987|     1987-11-22|   197|\n",
            "|  Belgium|    12|     GK|    MIGNOLET Simon|     MIGNOLET|  Liverpool FC (ENG)|   193|  87| 06| 03|1988|     1988-03-06|   194|\n",
            "+---------+------+-------+------------------+-------------+--------------------+------+----+---+---+----+---------------+------+\n",
            "only showing top 50 rows\n",
            "\n"
          ]
        }
      ]
    },
    {
      "cell_type": "markdown",
      "source": [
        "###Window Function 7  - Lead/Degrau - lead()"
      ],
      "metadata": {
        "id": "G8VKLcvK-eYa"
      }
    },
    {
      "cell_type": "code",
      "source": [
        "degrau = Window.partitionBy('Selecao').orderBy(desc('Altura'))\n",
        "\n",
        "df.withColumn('degrau', lead('Altura', 3).over(degrau)).show(50)"
      ],
      "metadata": {
        "colab": {
          "base_uri": "https://localhost:8080/"
        },
        "id": "uu1djYzy8rPX",
        "outputId": "5f38bea6-85eb-4134-e999-14f4d5da33f4"
      },
      "execution_count": 28,
      "outputs": [
        {
          "output_type": "stream",
          "name": "stdout",
          "text": [
            "+---------+------+-------+------------------+-------------+--------------------+------+----+---+---+----+---------------+------+\n",
            "|  Selecao|Numero|Posicao|         Nome_FIFA|Nome_Camiseta|                Time|Altura|Peso|Dia|Mes| Ano|Data_Nascimento|degrau|\n",
            "+---------+------+-------+------------------+-------------+--------------------+------+----+---+---+----+---------------+------+\n",
            "|Argentina|     6|     DF|    FAZIO Federico|        FAZIO|       AS Roma (ITA)|   199|  85| 17| 03|1987|     1987-03-17|   189|\n",
            "|Argentina|     1|     GK|     GUZMAN Nahuel|       GUZMÁN|   Tigres UANL (MEX)|   192|  90| 10| 02|1986|     1986-02-10|   186|\n",
            "|Argentina|    16|     DF|       ROJO Marcos|         ROJO|Manchester United...|   189|  82| 20| 03|1990|     1990-03-20|   184|\n",
            "|Argentina|    12|     GK|     ARMANI Franco|       ARMANI|CA River Plate (ARG)|   189|  85| 16| 10|1986|     1986-10-16|   181|\n",
            "|Argentina|    23|     GK|CABALLERO Wilfredo|    CABALLERO|    Chelsea FC (ENG)|   186|  80| 28| 09|1981|     1981-09-28|   181|\n",
            "|Argentina|     9|     FW|   HIGUAIN Gonzalo|      HIGUAÍN|   Juventus FC (ITA)|   184|  75| 10| 12|1987|     1987-12-10|   181|\n",
            "|Argentina|     4|     DF|  ANSALDI Cristian|      ANSALDI|     Torino FC (ITA)|   181|  73| 20| 09|1986|     1986-09-20|   180|\n",
            "|Argentina|     2|     DF|   MERCADO Gabriel|      MERCADO|    Sevilla FC (ESP)|   181|  81| 18| 03|1987|     1987-03-18|   178|\n",
            "|Argentina|    17|     DF|  OTAMENDI Nicolas|     OTAMENDI|Manchester City F...|   181|  81| 12| 02|1988|     1988-02-12|   177|\n",
            "|Argentina|    13|     MF|  MEZA Maximiliano|         MEZA|CA Independiente ...|   180|  76| 15| 12|1992|     1992-12-15|   177|\n",
            "|Argentina|    11|     MF|    DI MARIA Angel|     DI MARÍA|Paris Saint-Germa...|   178|  75| 14| 02|1988|     1988-02-14|   175|\n",
            "|Argentina|    21|     FW|      DYBALA Paulo|       DYBALA|   Juventus FC (ITA)|   177|  73| 15| 11|1993|     1993-11-15|   175|\n",
            "|Argentina|    20|     MF|  LO CELSO Giovani|     LO CELSO|Paris Saint-Germa...|   177|  75| 09| 04|1996|     1996-04-09|   174|\n",
            "|Argentina|     5|     MF|      BIGLIA Lucas|       BIGLIA|      AC Milan (ITA)|   175|  73| 30| 01|1986|     1986-01-30|   172|\n",
            "|Argentina|     7|     MF|       BANEGA Ever|       BANEGA|    Sevilla FC (ESP)|   175|  73| 29| 06|1988|     1988-06-29|   172|\n",
            "|Argentina|    14|     DF| MASCHERANO Javier|   MASCHERANO|Hebei China Fortu...|   174|  73| 08| 06|1984|     1984-06-08|   170|\n",
            "|Argentina|    19|     FW|     AGUERO Sergio|       AGÜERO|Manchester City F...|   172|  74| 02| 06|1988|     1988-06-02|   169|\n",
            "|Argentina|     8|     DF|      ACUNA Marcos|        ACUÑA|   Sporting CP (POR)|   172|  77| 28| 10|1991|     1991-10-28|   169|\n",
            "|Argentina|    10|     FW|      MESSI Lionel|        MESSI|  FC Barcelona (ESP)|   170|  72| 24| 06|1987|     1987-06-24|   167|\n",
            "|Argentina|     3|     DF|TAGLIAFICO Nicolas|   TAGLIAFICO|      AFC Ajax (NED)|   169|  65| 31| 08|1992|     1992-08-31|   167|\n",
            "|Argentina|    22|     MF|    PAVON Cristian|        PAVÓN|CA Boca Juniors (...|   169|  65| 21| 01|1996|     1996-01-21|  NULL|\n",
            "|Argentina|    15|     MF|    LANZINI Manuel|      LANZINI|West Ham United F...|   167|  66| 15| 02|1993|     1993-02-15|  NULL|\n",
            "|Argentina|    18|     DF|    SALVIO Eduardo|       SALVIO|    SL Benfica (POR)|   167|  69| 13| 07|1990|     1990-07-13|  NULL|\n",
            "|Australia|    12|     GK|        JONES Brad|        JONES|Feyenoord Rotterd...|   193|  87| 19| 03|1982|     1982-03-19|   189|\n",
            "|Australia|     9|     FW|        JURIC Tomi|        JURIC|     FC Luzern (SUI)|   190|  80| 22| 07|1991|     1991-07-22|   188|\n",
            "|Australia|     6|     DF|    JURMAN Matthew|       JURMAN|Suwon Samsung Blu...|   190|  83| 08| 12|1989|     1989-12-08|   187|\n",
            "|Australia|    23|     MF|         ROGIC Tom|        ROGIC|     Celtic FC (SCO)|   189|  88| 16| 12|1992|     1992-12-16|   187|\n",
            "|Australia|    15|     MF|      JEDINAK Mile|      JEDINAK|Aston Villa FC (ENG)|   188|  78| 03| 08|1984|     1984-08-03|   184|\n",
            "|Australia|     2|     DF|     DEGENEK Milos|      DEGENEK|Yokohama F-Marino...|   187|  85| 28| 04|1994|     1994-04-28|   183|\n",
            "|Australia|    18|     GK|     VUKOVIC Danny|      VUKOVIC|      KRC Genk (BEL)|   187|  94| 27| 03|1985|     1985-03-27|   181|\n",
            "|Australia|     1|     GK|       RYAN Mathew|         RYAN|Brighton & Hove A...|   184|  82| 08| 04|1992|     1992-04-08|   180|\n",
            "|Australia|    20|     DF|   SAINSBURY Trent|    SAINSBURY|Grasshopper Club ...|   183|  76| 05| 01|1992|     1992-01-05|   180|\n",
            "|Australia|     7|     FW|     LECKIE Mathew|       LECKIE|    Hertha BSC (GER)|   181|  84| 04| 02|1991|     1991-02-04|   180|\n",
            "|Australia|    10|     FW|      KRUSE Robbie|        KRUSE|    VfL Bochum (GER)|   180|  66| 05| 10|1988|     1988-10-05|   179|\n",
            "|Australia|     4|     FW|        CAHILL Tim|       CAHILL|   Millwall FC (ENG)|   180|  76| 06| 12|1979|     1979-12-06|   178|\n",
            "|Australia|    22|     MF|    IRVINE Jackson|       IRVINE|  Hull City FC (ENG)|   180|  77| 07| 03|1993|     1993-03-07|   178|\n",
            "|Australia|     3|     DF|    MEREDITH James|     MEREDITH|   Millwall FC (ENG)|   179|  71| 05| 04|1988|     1988-04-05|   178|\n",
            "|Australia|    14|     FW|    MacLAREN Jamie|     MACLAREN|  Hibernian FC (SCO)|   178|  72| 29| 07|1993|     1993-07-29|   176|\n",
            "|Australia|     5|     DF|     MILLIGAN Mark|     MILLIGAN|    Al Ahli SC (KSA)|   178|  78| 04| 08|1985|     1985-08-04|   176|\n",
            "|Australia|    11|     FW|    NABBOUT Andrew|      NABBOUT|    Urawa Reds (JPN)|   178|  85| 17| 12|1992|     1992-12-17|   173|\n",
            "|Australia|    21|     FW|PETRATOS Dimitrios|     PETRATOS|Newcastle United ...|   176|  72| 10| 11|1992|     1992-11-10|   171|\n",
            "|Australia|     8|     MF|    LUONGO Massimo|       LUONGO|Queens Park Range...|   176|  76| 25| 09|1992|     1992-09-25|   170|\n",
            "|Australia|    13|     MF|        MOOY Aaron|         MOOY|Huddersfield Town...|   173|  72| 15| 09|1990|     1990-09-15|   169|\n",
            "|Australia|    17|     FW|     ARZANI Daniel|       ARZANI|Melbourne City FC...|   171|  73| 04| 01|1999|     1999-01-04|  NULL|\n",
            "|Australia|    16|     DF|       BEHICH Aziz|       BEHICH|     Bursaspor (TUR)|   170|  63| 16| 12|1990|     1990-12-16|  NULL|\n",
            "|Australia|    19|     DF|     RISDON Joshua|       RISDON|WS Wanderers FC (...|   169|  70| 27| 07|1992|     1992-07-27|  NULL|\n",
            "|  Belgium|     1|     GK|  COURTOIS Thibaut|     COURTOIS|    Chelsea FC (ENG)|   199|  91| 11| 05|1992|     1992-05-11|   193|\n",
            "|  Belgium|    13|     GK|     CASTEELS Koen|     CASTEELS| VfL Wolfsburg (GER)|   197|  86| 25| 06|1992|     1992-06-25|   190|\n",
            "|  Belgium|     8|     MF| FELLAINI Marouane|     FELLAINI|Manchester United...|   194|  85| 22| 11|1987|     1987-11-22|   190|\n",
            "|  Belgium|    12|     GK|    MIGNOLET Simon|     MIGNOLET|  Liverpool FC (ENG)|   193|  87| 06| 03|1988|     1988-03-06|   190|\n",
            "+---------+------+-------+------------------+-------------+--------------------+------+----+---+---+----+---------------+------+\n",
            "only showing top 50 rows\n",
            "\n"
          ]
        }
      ]
    },
    {
      "cell_type": "markdown",
      "source": [
        "###Agregações"
      ],
      "metadata": {
        "id": "poPIHqqs-n1l"
      }
    },
    {
      "cell_type": "markdown",
      "source": [
        "###GroupBy = AGG"
      ],
      "metadata": {
        "id": "ftQofjvJ-qXZ"
      }
    },
    {
      "cell_type": "code",
      "source": [
        "df.groupBy('Selecao').agg(avg('Altura')).orderBy(('avg(Altura)'), ascending=False).show(50)"
      ],
      "metadata": {
        "colab": {
          "base_uri": "https://localhost:8080/"
        },
        "id": "a5R4Gc3M-p2N",
        "outputId": "d73f6427-d9be-4ffe-c51c-96d6e268757d"
      },
      "execution_count": 40,
      "outputs": [
        {
          "output_type": "stream",
          "name": "stdout",
          "text": [
            "+--------------+------------------+\n",
            "|       Selecao|       avg(Altura)|\n",
            "+--------------+------------------+\n",
            "|        Serbia|186.69565217391303|\n",
            "|       Denmark| 186.6086956521739|\n",
            "|       Germany| 185.7826086956522|\n",
            "|        Sweden| 185.7391304347826|\n",
            "|       Iceland|185.52173913043478|\n",
            "|       Belgium|185.34782608695653|\n",
            "|       Croatia| 185.2608695652174|\n",
            "|       Nigeria|184.52173913043478|\n",
            "|       IR Iran|184.47826086956522|\n",
            "|        Russia| 184.3913043478261|\n",
            "|       Senegal|183.65217391304347|\n",
            "|        France|183.30434782608697|\n",
            "|        Poland|183.17391304347825|\n",
            "|       Tunisia|183.08695652173913|\n",
            "|   Switzerland|182.91304347826087|\n",
            "|       England| 182.7391304347826|\n",
            "|       Morocco|182.69565217391303|\n",
            "|        Panama|182.17391304347825|\n",
            "|Korea Republic| 181.8695652173913|\n",
            "|       Uruguay|181.04347826086956|\n",
            "|         Egypt|             181.0|\n",
            "|     Australia| 180.8695652173913|\n",
            "|        Brazil| 180.7826086956522|\n",
            "|      Colombia| 180.7826086956522|\n",
            "|    Costa Rica|180.69565217391303|\n",
            "|         Spain|179.91304347826087|\n",
            "|        Mexico| 179.7826086956522|\n",
            "|      Portugal| 179.7391304347826|\n",
            "|         Japan| 178.7826086956522|\n",
            "|     Argentina|178.43478260869566|\n",
            "|  Saudi Arabia|177.65217391304347|\n",
            "|          Peru| 177.6086956521739|\n",
            "+--------------+------------------+\n",
            "\n"
          ]
        }
      ]
    },
    {
      "cell_type": "markdown",
      "source": [
        "###Where"
      ],
      "metadata": {
        "id": "0SJYzwscCyNT"
      }
    },
    {
      "cell_type": "code",
      "source": [
        "df.where('Selecao = \"Brazil\"').show(25)"
      ],
      "metadata": {
        "colab": {
          "base_uri": "https://localhost:8080/"
        },
        "id": "jKfpZamlAygr",
        "outputId": "1f491d05-f7d4-40e3-efc9-5f5aa837b875"
      },
      "execution_count": 41,
      "outputs": [
        {
          "output_type": "stream",
          "name": "stdout",
          "text": [
            "+-------+------+-------+-----------------+-------------+--------------------+------+----+---+---+----+---------------+\n",
            "|Selecao|Numero|Posicao|        Nome_FIFA|Nome_Camiseta|                Time|Altura|Peso|Dia|Mes| Ano|Data_Nascimento|\n",
            "+-------+------+-------+-----------------+-------------+--------------------+------+----+---+---+----+---------------+\n",
            "| Brazil|    18|     MF|             FRED|         FRED|FC Shakhtar Donet...|   169|  64| 05| 03|1993|     1993-03-05|\n",
            "| Brazil|    21|     FW|           TAISON|       TAISON|FC Shakhtar Donet...|   172|  64| 13| 01|1988|     1988-01-13|\n",
            "| Brazil|    17|     MF|      FERNANDINHO|  FERNANDINHO|Manchester City F...|   179|  67| 04| 05|1985|     1985-05-04|\n",
            "| Brazil|    22|     DF|           FAGNER|       FAGNER|SC Corinthians (BRA)|   168|  67| 11| 06|1989|     1989-06-11|\n",
            "| Brazil|    10|     FW|           NEYMAR|    NEYMAR JR|Paris Saint-Germa...|   175|  68| 05| 02|1992|     1992-02-05|\n",
            "| Brazil|    11|     MF|PHILIPPE COUTINHO|  P. COUTINHO|  FC Barcelona (ESP)|   172|  68| 12| 06|1992|     1992-06-12|\n",
            "| Brazil|     7|     FW|    DOUGLAS COSTA|     D. COSTA|   Juventus FC (ITA)|   182|  70| 14| 09|1990|     1990-09-14|\n",
            "| Brazil|     6|     DF|      FILIPE LUIS|  FILIPE LUIS|Atletico Madrid (...|   182|  73| 09| 08|1985|     1985-08-09|\n",
            "| Brazil|     9|     FW|    GABRIEL JESUS|     G. JESUS|Manchester City F...|   175|  73| 03| 04|1997|     1997-04-03|\n",
            "| Brazil|    13|     DF|       MARQUINHOS|   MARQUINHOS|Paris Saint-Germa...|   183|  75| 14| 05|1994|     1994-05-14|\n",
            "| Brazil|    20|     FW|  ROBERTO FIRMINO|      FIRMINO|  Liverpool FC (ENG)|   181|  76| 02| 10|1991|     1991-10-02|\n",
            "| Brazil|    19|     MF|          WILLIAN|      WILLIAN|    Chelsea FC (ENG)|   175|  77| 09| 08|1988|     1988-08-09|\n",
            "| Brazil|     3|     DF|          MIRANDA|      MIRANDA|FC Internazionale...|   186|  78| 07| 09|1984|     1984-09-07|\n",
            "| Brazil|    14|     DF|           DANILO|       DANILO|Manchester City F...|   184|  78| 15| 07|1991|     1991-07-15|\n",
            "| Brazil|     2|     DF|     THIAGO SILVA|     T. SILVA|Paris Saint-Germa...|   183|  79| 22| 09|1984|     1984-09-22|\n",
            "| Brazil|    12|     DF|          MARCELO|      MARCELO|Real Madrid CF (ESP)|   174|  80| 12| 05|1988|     1988-05-12|\n",
            "| Brazil|    15|     MF|         PAULINHO|     PAULINHO|  FC Barcelona (ESP)|   181|  81| 25| 07|1988|     1988-07-25|\n",
            "| Brazil|     4|     DF|    PEDRO GEROMEL|      GEROMEL|   Grêmio FBPA (BRA)|   190|  84| 21| 09|1985|     1985-09-21|\n",
            "| Brazil|     5|     MF|         CASEMIRO|     CASEMIRO|Real Madrid CF (ESP)|   185|  84| 23| 02|1992|     1992-02-23|\n",
            "| Brazil|     8|     MF|   RENATO AUGUSTO|   R. AUGUSTO| Beijing Guoan (CHN)|   186|  86| 08| 02|1988|     1988-02-08|\n",
            "| Brazil|    23|     GK|          EDERSON|      EDERSON|Manchester City F...|   188|  86| 17| 08|1993|     1993-08-17|\n",
            "| Brazil|     1|     GK|          ALISSON|    A. BECKER|       AS Roma (ITA)|   193|  91| 02| 10|1992|     1992-10-02|\n",
            "| Brazil|    16|     GK|           CASSIO|       CASSIO|SC Corinthians (BRA)|   195|  92| 06| 06|1987|     1987-06-06|\n",
            "+-------+------+-------+-----------------+-------------+--------------------+------+----+---+---+----+---------------+\n",
            "\n"
          ]
        }
      ]
    },
    {
      "cell_type": "code",
      "source": [
        "top1 = Window.partitionBy('Selecao').orderBy(desc('Altura'))\n",
        "\n",
        "df.withColumn('Top', row_number().over(top1)).where('Top = \"1\"').show(50)"
      ],
      "metadata": {
        "colab": {
          "base_uri": "https://localhost:8080/"
        },
        "id": "_kKIDZVUC0gs",
        "outputId": "2e5f504b-5961-4e8f-9746-c14f1262b936"
      },
      "execution_count": 45,
      "outputs": [
        {
          "output_type": "stream",
          "name": "stdout",
          "text": [
            "+--------------+------+-------+-------------------+-------------+--------------------+------+----+---+---+----+---------------+---+\n",
            "|       Selecao|Numero|Posicao|          Nome_FIFA|Nome_Camiseta|                Time|Altura|Peso|Dia|Mes| Ano|Data_Nascimento|Top|\n",
            "+--------------+------+-------+-------------------+-------------+--------------------+------+----+---+---+----+---------------+---+\n",
            "|     Argentina|     6|     DF|     FAZIO Federico|        FAZIO|       AS Roma (ITA)|   199|  85| 17| 03|1987|     1987-03-17|  1|\n",
            "|     Australia|    12|     GK|         JONES Brad|        JONES|Feyenoord Rotterd...|   193|  87| 19| 03|1982|     1982-03-19|  1|\n",
            "|       Belgium|     1|     GK|   COURTOIS Thibaut|     COURTOIS|    Chelsea FC (ENG)|   199|  91| 11| 05|1992|     1992-05-11|  1|\n",
            "|        Brazil|    16|     GK|             CASSIO|       CASSIO|SC Corinthians (BRA)|   195|  92| 06| 06|1987|     1987-06-06|  1|\n",
            "|      Colombia|    13|     DF|         MINA Yerry|      Y. MINA|  FC Barcelona (ESP)|   194|  95| 23| 09|1994|     1994-09-23|  1|\n",
            "|    Costa Rica|    19|     DF|     WASTON Kendall|    K. WASTON|Vancouver Whiteca...|   196|  87| 01| 01|1988|     1988-01-01|  1|\n",
            "|       Croatia|    12|     GK|      KALINIC Lovre|   L. KALINIĆ|      KAA Gent (BEL)|   201|  96| 03| 04|1990|     1990-04-03|  1|\n",
            "|       Denmark|     3|     DF| VESTERGAARD Jannik|  VESTERGAARD|VfL Borussia Mönc...|   200|  98| 03| 08|1992|     1992-08-03|  1|\n",
            "|         Egypt|     6|     DF|       AHMED HEGAZY|    A. HEGAZY|West Bromwich Alb...|   194|  95| 25| 01|1991|     1991-01-25|  1|\n",
            "|       England|    13|     GK|       BUTLAND Jack|      BUTLAND| Stoke City FC (ENG)|   196|  96| 10| 03|1993|     1993-03-10|  1|\n",
            "|        France|    15|     MF|      NZONZI Steven|       NZONZI|    Sevilla FC (ESP)|   197|  87| 15| 12|1988|     1988-12-15|  1|\n",
            "|       Germany|    15|     DF|       SUELE Niklas|         SÜLE|FC Bayern München...|   195|  89| 03| 09|1995|     1995-09-03|  1|\n",
            "|       IR Iran|     1|     GK|     BEIRANVAND Ali|A. BEIRANVAND| Persepolis FC (IRN)|   194|  85| 21| 09|1992|     1992-09-21|  1|\n",
            "|       Iceland|    12|     GK|    SCHRAM Frederik|       SCHRAM|   Roskilde BK (DEN)|   198|  92| 19| 01|1995|     1995-01-19|  1|\n",
            "|         Japan|    22|     DF|       YOSHIDA Maya|      YOSHIDA|Southampton FC (ENG)|   189|  78| 24| 08|1988|     1988-08-24|  1|\n",
            "|Korea Republic|     9|     FW|       KIM Shinwook|      S W KIM|Jeonbuk Hyundai (...|   197|  97| 14| 04|1988|     1988-04-14|  1|\n",
            "|        Mexico|     5|     DF|        REYES Diego|     D. REYES|      FC Porto (POR)|   190|  77| 19| 09|1992|     1992-09-19|  1|\n",
            "|       Morocco|     6|     DF|       SAISS Romain|        SAISS|Wolverhampton Wan...|   190|  76| 26| 03|1990|     1990-03-26|  1|\n",
            "|       Nigeria|    13|     FW|     NWANKWO Simeon|      NWANKWO|    FC Crotone (ITA)|   197|  89| 07| 05|1992|     1992-05-07|  1|\n",
            "|        Panama|    22|     GK|     RODRIGUEZ Alex|    RODRIGUEZ|San Francisco FC ...|   197|  83| 05| 08|1990|     1990-08-05|  1|\n",
            "|          Peru|     1|     GK|      GALLESE Pedro|      GALLESE|CD Tiburones Rojo...|   189|  79| 23| 02|1990|     1990-02-23|  1|\n",
            "|        Poland|     1|     GK|  SZCZESNY Wojciech|     SZCZESNY|   Juventus FC (ITA)|   195|  84| 18| 04|1990|     1990-04-18|  1|\n",
            "|      Portugal|     6|     DF|         JOSE FONTE|        FONTE|Dalian Yifang FC ...|   191|  84| 22| 12|1983|     1983-12-22|  1|\n",
            "|        Russia|    22|     FW|       DZYUBA Artem|       DZYUBA|FC Arsenal Tula (...|   196|  90| 22| 08|1988|     1988-08-22|  1|\n",
            "|  Saudi Arabia|    12|     MF|      MOHAMED KANNO|        KANNO|  Al Hilal SFC (KSA)|   192|  73| 22| 09|1994|     1994-09-22|  1|\n",
            "|       Senegal|    23|     GK|       GOMIS Alfred|        GOMIS|  SPAL Ferrara (ITA)|   196|  80| 05| 09|1993|     1993-09-05|  1|\n",
            "|        Serbia|    15|     DF|  MILENKOVIC Nikola|   MILENKOVIĆ|ACF Fiorentina (ITA)|   195|  90| 12| 10|1997|     1997-10-12|  1|\n",
            "|         Spain|     3|     DF|       PIQUE Gerard|        PIQUÉ|  FC Barcelona (ESP)|   194|  85| 02| 02|1987|     1987-02-02|  1|\n",
            "|        Sweden|     1|     GK|        OLSEN Robin|        OLSEN|  FC Kobenhavn (DEN)|   198|  89| 08| 01|1990|     1990-01-08|  1|\n",
            "|   Switzerland|    20|     DF|      DJOUROU Johan|      DJOUROU|Antalyaspor AS (TUR)|   192|  90| 18| 01|1987|     1987-01-18|  1|\n",
            "|       Tunisia|     1|     GK|BEN MUSTAPHA Farouk| BEN MUSTAPHA|  Al Shabab FC (KSA)|   192|  85| 01| 07|1989|     1989-07-01|  1|\n",
            "|       Uruguay|    19|     DF|   COATES Sebastian|       COATES|   Sporting CP (POR)|   196|  89| 07| 10|1990|     1990-10-07|  1|\n",
            "+--------------+------+-------+-------------------+-------------+--------------------+------+----+---+---+----+---------------+---+\n",
            "\n"
          ]
        }
      ]
    },
    {
      "cell_type": "markdown",
      "source": [
        "###Describe"
      ],
      "metadata": {
        "id": "gqEzPzMaC00u"
      }
    },
    {
      "cell_type": "code",
      "source": [
        "df.describe().show()"
      ],
      "metadata": {
        "colab": {
          "base_uri": "https://localhost:8080/"
        },
        "id": "3iNCiEjvC2Sb",
        "outputId": "d40901cf-258e-48b1-8d29-08cca56eb9a4"
      },
      "execution_count": 47,
      "outputs": [
        {
          "output_type": "stream",
          "name": "stdout",
          "text": [
            "+-------+---------+-----------------+-------+------------+-------------+--------------------+-----------------+-----------------+------------------+------------------+------------------+\n",
            "|summary|  Selecao|           Numero|Posicao|   Nome_FIFA|Nome_Camiseta|                Time|           Altura|             Peso|               Dia|               Mes|               Ano|\n",
            "+-------+---------+-----------------+-------+------------+-------------+--------------------+-----------------+-----------------+------------------+------------------+------------------+\n",
            "|  count|      736|              736|    736|         736|          736|                 736|              736|              736|               736|               736|               736|\n",
            "|   mean|     NULL|             12.0|   NULL|        NULL|         NULL|                NULL|182.4076086956522|77.18885869565217|15.793478260869565|5.8790760869565215| 1990.110054347826|\n",
            "| stddev|     NULL|6.637760461599851|   NULL|        NULL|         NULL|                NULL|6.930924233929302|7.233778346883639| 8.761123828732469|3.3782493094684387|3.9074472063626775|\n",
            "|    min|Argentina|                1|     DF|ABDALLA SAID|    A. ASHRAF|    1. FC Köln (GER)|              165|               59|                01|                01|              1973|\n",
            "|    max|  Uruguay|               23|     MF|ZUBER Steven|     ŽIVKOVIĆ|Étoile du Sahel (...|              201|               99|                31|                12|              1999|\n",
            "+-------+---------+-----------------+-------+------------+-------------+--------------------+-----------------+-----------------+------------------+------------------+------------------+\n",
            "\n"
          ]
        }
      ]
    },
    {
      "cell_type": "code",
      "source": [
        "df.where('Selecao = \"Brazil\"').describe().show()"
      ],
      "metadata": {
        "colab": {
          "base_uri": "https://localhost:8080/"
        },
        "id": "hTKovr-uE6N1",
        "outputId": "853a7ab0-fabe-485c-fdc5-00aa45da2959"
      },
      "execution_count": 48,
      "outputs": [
        {
          "output_type": "stream",
          "name": "stdout",
          "text": [
            "+-------+-------+-----------------+-------+---------+-------------+--------------------+-----------------+-----------------+-----------------+-----------------+-----------------+\n",
            "|summary|Selecao|           Numero|Posicao|Nome_FIFA|Nome_Camiseta|                Time|           Altura|             Peso|              Dia|              Mes|              Ano|\n",
            "+-------+-------+-----------------+-------+---------+-------------+--------------------+-----------------+-----------------+-----------------+-----------------+-----------------+\n",
            "|  count|     23|               23|     23|       23|           23|                  23|               23|               23|               23|               23|               23|\n",
            "|   mean|   NULL|             12.0|   NULL|     NULL|         NULL|                NULL|180.7826086956522|76.56521739130434|11.26086956521739|6.130434782608695|1989.391304347826|\n",
            "| stddev|   NULL|6.782329983125267|   NULL|     NULL|         NULL|                NULL|7.354383490255254|8.239737898283606|6.876953549252538|2.784769418006175|3.499858833968506|\n",
            "|    min| Brazil|                1|     DF|  ALISSON|    A. BECKER|       AS Roma (ITA)|              168|               64|               02|               01|             1984|\n",
            "|    max| Brazil|               23|     MF|  WILLIAN|      WILLIAN|SC Corinthians (BRA)|              195|               92|               25|               10|             1997|\n",
            "+-------+-------+-----------------+-------+---------+-------------+--------------------+-----------------+-----------------+-----------------+-----------------+-----------------+\n",
            "\n"
          ]
        }
      ]
    },
    {
      "cell_type": "markdown",
      "source": [
        "###Window Function 8 - Função de agregação usando Window Function"
      ],
      "metadata": {
        "id": "FVwU0wn0FqAA"
      }
    },
    {
      "cell_type": "code",
      "source": [
        "parametro = Window.partitionBy('Selecao').orderBy(desc('Altura'))\n",
        "parametro2 = Window.partitionBy('Selecao')\n",
        "df.withColumn('linhax', row_number().over(parametro))\\\n",
        ".withColumn('media', avg('Altura').over(parametro2))\\\n",
        ".withColumn('max', max('Altura').over(parametro2))\\\n",
        ".withColumn('min', min('Altura').over(parametro2))\\\n",
        ".where('linhax = \"1\"').select('Selecao', 'media', 'max', 'min')\\\n",
        ".orderBy('media', ascending=False).show(50)"
      ],
      "metadata": {
        "colab": {
          "base_uri": "https://localhost:8080/"
        },
        "id": "4u--HVh9FeTS",
        "outputId": "d13fb05d-a8fa-428c-e5f9-59e1e6437fd1"
      },
      "execution_count": 51,
      "outputs": [
        {
          "output_type": "stream",
          "name": "stdout",
          "text": [
            "+--------------+------------------+---+---+\n",
            "|       Selecao|             media|max|min|\n",
            "+--------------+------------------+---+---+\n",
            "|        Serbia|186.69565217391303|195|169|\n",
            "|       Denmark| 186.6086956521739|200|171|\n",
            "|       Germany| 185.7826086956522|195|176|\n",
            "|        Sweden| 185.7391304347826|198|177|\n",
            "|       Iceland|185.52173913043478|198|170|\n",
            "|       Belgium|185.34782608695653|199|169|\n",
            "|       Croatia| 185.2608695652174|201|172|\n",
            "|       Nigeria|184.52173913043478|197|172|\n",
            "|       IR Iran|184.47826086956522|194|177|\n",
            "|        Russia| 184.3913043478261|196|173|\n",
            "|       Senegal|183.65217391304347|196|173|\n",
            "|        France|183.30434782608697|197|168|\n",
            "|        Poland|183.17391304347825|195|172|\n",
            "|       Tunisia|183.08695652173913|192|170|\n",
            "|   Switzerland|182.91304347826087|192|165|\n",
            "|       England| 182.7391304347826|196|170|\n",
            "|       Morocco|182.69565217391303|190|167|\n",
            "|        Panama|182.17391304347825|197|165|\n",
            "|Korea Republic| 181.8695652173913|197|170|\n",
            "|       Uruguay|181.04347826086956|196|168|\n",
            "|         Egypt|             181.0|194|169|\n",
            "|     Australia| 180.8695652173913|193|169|\n",
            "|        Brazil| 180.7826086956522|195|168|\n",
            "|      Colombia| 180.7826086956522|194|169|\n",
            "|    Costa Rica|180.69565217391303|196|172|\n",
            "|         Spain|179.91304347826087|194|170|\n",
            "|        Mexico| 179.7826086956522|190|166|\n",
            "|      Portugal| 179.7391304347826|191|168|\n",
            "|         Japan| 178.7826086956522|189|168|\n",
            "|     Argentina|178.43478260869566|199|167|\n",
            "|  Saudi Arabia|177.65217391304347|192|165|\n",
            "|          Peru| 177.6086956521739|189|169|\n",
            "+--------------+------------------+---+---+\n",
            "\n"
          ]
        }
      ]
    },
    {
      "cell_type": "code",
      "source": [],
      "metadata": {
        "id": "pgI_4OGwHEuF"
      },
      "execution_count": null,
      "outputs": []
    }
  ]
}