{
  "nbformat": 4,
  "nbformat_minor": 0,
  "metadata": {
    "colab": {
      "provenance": [],
      "authorship_tag": "ABX9TyNQVn68Fg32dwHK25M9K3iZ",
      "include_colab_link": true
    },
    "kernelspec": {
      "name": "python3",
      "display_name": "Python 3"
    },
    "language_info": {
      "name": "python"
    }
  },
  "cells": [
    {
      "cell_type": "markdown",
      "metadata": {
        "id": "view-in-github",
        "colab_type": "text"
      },
      "source": [
        "<a href=\"https://colab.research.google.com/github/MirianCabral/PySpark/blob/main/PySpark_03.ipynb\" target=\"_parent\"><img src=\"https://colab.research.google.com/assets/colab-badge.svg\" alt=\"Open In Colab\"/></a>"
      ]
    },
    {
      "cell_type": "code",
      "execution_count": 92,
      "metadata": {
        "colab": {
          "base_uri": "https://localhost:8080/"
        },
        "id": "1UhHLKQ80EZI",
        "outputId": "dbe69c2e-d6cd-4e4d-f489-96f43fc14558"
      },
      "outputs": [
        {
          "output_type": "stream",
          "name": "stdout",
          "text": [
            "Requirement already satisfied: pyspark in /usr/local/lib/python3.11/dist-packages (3.5.5)\n",
            "Requirement already satisfied: py4j==0.10.9.7 in /usr/local/lib/python3.11/dist-packages (from pyspark) (0.10.9.7)\n"
          ]
        }
      ],
      "source": [
        "!pip install pyspark"
      ]
    },
    {
      "cell_type": "code",
      "source": [
        "import os\n",
        "import sys\n",
        "from pyspark.sql import SparkSession\n",
        "from pyspark.sql.functions import *\n",
        "from pyspark.sql.types import *\n",
        "from pyspark.sql.window import Window\n",
        "\n",
        "os.environ['PYSPARK_PYTHON'] = sys.executable\n",
        "os.environ['PYSPARK_DRIVER_PYTHON'] = sys.executable"
      ],
      "metadata": {
        "id": "QQOfP7g20SHm"
      },
      "execution_count": 93,
      "outputs": []
    },
    {
      "cell_type": "code",
      "source": [
        "spark = (\n",
        "    SparkSession.builder\n",
        "    .master('local')\n",
        "    .appName('PySpark_03')\n",
        "    .getOrCreate()\n",
        ")"
      ],
      "metadata": {
        "id": "AeC3HpFN0r8i"
      },
      "execution_count": 94,
      "outputs": []
    },
    {
      "cell_type": "code",
      "source": [
        "df = spark.read.csv('/content/wc2018-players.csv', header= True, inferSchema=True)"
      ],
      "metadata": {
        "id": "9g1okHRY1BDe"
      },
      "execution_count": 95,
      "outputs": []
    },
    {
      "cell_type": "code",
      "source": [
        "df.show(5)"
      ],
      "metadata": {
        "colab": {
          "base_uri": "https://localhost:8080/"
        },
        "id": "3ti_Iv3q1P2l",
        "outputId": "b568e746-ffa0-4f7f-ca5f-2e9d9a979f46"
      },
      "execution_count": 96,
      "outputs": [
        {
          "output_type": "stream",
          "name": "stdout",
          "text": [
            "+---------+---+----+------------------+----------+----------+--------------------+------+------+\n",
            "|     Team|  #|Pos.| FIFA Popular Name|Birth Date|Shirt Name|                Club|Height|Weight|\n",
            "+---------+---+----+------------------+----------+----------+--------------------+------+------+\n",
            "|Argentina|  3|  DF|TAGLIAFICO Nicolas|31.08.1992|TAGLIAFICO|      AFC Ajax (NED)|   169|    65|\n",
            "|Argentina| 22|  MF|    PAVON Cristian|21.01.1996|     PAVÓN|CA Boca Juniors (...|   169|    65|\n",
            "|Argentina| 15|  MF|    LANZINI Manuel|15.02.1993|   LANZINI|West Ham United F...|   167|    66|\n",
            "|Argentina| 18|  DF|    SALVIO Eduardo|13.07.1990|    SALVIO|    SL Benfica (POR)|   167|    69|\n",
            "|Argentina| 10|  FW|      MESSI Lionel|24.06.1987|     MESSI|  FC Barcelona (ESP)|   170|    72|\n",
            "+---------+---+----+------------------+----------+----------+--------------------+------+------+\n",
            "only showing top 5 rows\n",
            "\n"
          ]
        }
      ]
    },
    {
      "cell_type": "code",
      "source": [
        "df = df.withColumnRenamed('Team', 'Selecao').withColumnRenamed('#', 'Numero').withColumnRenamed('Pos.', 'Posicao').withColumnRenamed('FIFA Popular Name', 'Nome_FIFA')\\\n",
        ".withColumnRenamed('Birth Date', 'Nascimento').withColumnRenamed('Shirt Name', 'Nome_Camiseta').withColumnRenamed('Club', 'Time')\\\n",
        ".withColumnRenamed('Height', 'Altura').withColumnRenamed('Weight', 'Peso')\n",
        "\n",
        "dia = udf(lambda data: data.split('.')[0])\n",
        "mes = udf(lambda data: data.split('.')[1])\n",
        "ano = udf(lambda data: data.split('.')[2])\n",
        "\n",
        "df = df.withColumn('Dia', dia('Nascimento')).withColumn('Mes', mes('Nascimento')).withColumn('Ano', ano('Nascimento'))\n",
        "df = df.withColumn('Data_Nascimento', concat_ws('-', 'Ano', 'Mes', 'Dia').cast(DateType()))\n",
        "\n",
        "df.show(5)"
      ],
      "metadata": {
        "colab": {
          "base_uri": "https://localhost:8080/"
        },
        "id": "gLWUjea31XHq",
        "outputId": "b45d670b-34e9-4074-d9ea-588c67e5d05a"
      },
      "execution_count": 97,
      "outputs": [
        {
          "output_type": "stream",
          "name": "stdout",
          "text": [
            "+---------+------+-------+------------------+----------+-------------+--------------------+------+----+---+---+----+---------------+\n",
            "|  Selecao|Numero|Posicao|         Nome_FIFA|Nascimento|Nome_Camiseta|                Time|Altura|Peso|Dia|Mes| Ano|Data_Nascimento|\n",
            "+---------+------+-------+------------------+----------+-------------+--------------------+------+----+---+---+----+---------------+\n",
            "|Argentina|     3|     DF|TAGLIAFICO Nicolas|31.08.1992|   TAGLIAFICO|      AFC Ajax (NED)|   169|  65| 31| 08|1992|     1992-08-31|\n",
            "|Argentina|    22|     MF|    PAVON Cristian|21.01.1996|        PAVÓN|CA Boca Juniors (...|   169|  65| 21| 01|1996|     1996-01-21|\n",
            "|Argentina|    15|     MF|    LANZINI Manuel|15.02.1993|      LANZINI|West Ham United F...|   167|  66| 15| 02|1993|     1993-02-15|\n",
            "|Argentina|    18|     DF|    SALVIO Eduardo|13.07.1990|       SALVIO|    SL Benfica (POR)|   167|  69| 13| 07|1990|     1990-07-13|\n",
            "|Argentina|    10|     FW|      MESSI Lionel|24.06.1987|        MESSI|  FC Barcelona (ESP)|   170|  72| 24| 06|1987|     1987-06-24|\n",
            "+---------+------+-------+------------------+----------+-------------+--------------------+------+----+---+---+----+---------------+\n",
            "only showing top 5 rows\n",
            "\n"
          ]
        }
      ]
    },
    {
      "cell_type": "markdown",
      "source": [
        "###Alteração Aula PySpark 02"
      ],
      "metadata": {
        "id": "aY4XN2RV37eZ"
      }
    },
    {
      "cell_type": "code",
      "source": [
        "df2 = df\n",
        "df = df.drop('Nascimento', 'Nome_FIFA')"
      ],
      "metadata": {
        "id": "AA65uIaQ2I_N"
      },
      "execution_count": 98,
      "outputs": []
    },
    {
      "cell_type": "markdown",
      "source": [
        "###Distinct()"
      ],
      "metadata": {
        "id": "58CzXmFe4JYZ"
      }
    },
    {
      "cell_type": "code",
      "source": [
        "df.select(col('Selecao')).distinct().show()"
      ],
      "metadata": {
        "colab": {
          "base_uri": "https://localhost:8080/"
        },
        "id": "NiGcXIfK4IfG",
        "outputId": "03421fb5-b54b-48b0-d244-5e57db2d19a7"
      },
      "execution_count": 99,
      "outputs": [
        {
          "output_type": "stream",
          "name": "stdout",
          "text": [
            "+--------------+\n",
            "|       Selecao|\n",
            "+--------------+\n",
            "|        Russia|\n",
            "|       Senegal|\n",
            "|        Sweden|\n",
            "|       IR Iran|\n",
            "|       Germany|\n",
            "|        France|\n",
            "|     Argentina|\n",
            "|       Belgium|\n",
            "|          Peru|\n",
            "|       Croatia|\n",
            "|       Nigeria|\n",
            "|Korea Republic|\n",
            "|         Spain|\n",
            "|       Denmark|\n",
            "|       Morocco|\n",
            "|        Panama|\n",
            "|       Iceland|\n",
            "|       Uruguay|\n",
            "|        Mexico|\n",
            "|       Tunisia|\n",
            "+--------------+\n",
            "only showing top 20 rows\n",
            "\n"
          ]
        }
      ]
    },
    {
      "cell_type": "markdown",
      "source": [
        "###Collect()"
      ],
      "metadata": {
        "id": "xgnhWPjK4LUI"
      }
    },
    {
      "cell_type": "code",
      "source": [
        "lista = df.select(col('Selecao')).distinct().collect()\n",
        "lista"
      ],
      "metadata": {
        "colab": {
          "base_uri": "https://localhost:8080/"
        },
        "id": "mUUZJIF44e4z",
        "outputId": "0baa9629-bb08-483d-b5f1-4e5b0b0f8d93"
      },
      "execution_count": 100,
      "outputs": [
        {
          "output_type": "execute_result",
          "data": {
            "text/plain": [
              "[Row(Selecao='Russia'),\n",
              " Row(Selecao='Senegal'),\n",
              " Row(Selecao='Sweden'),\n",
              " Row(Selecao='IR Iran'),\n",
              " Row(Selecao='Germany'),\n",
              " Row(Selecao='France'),\n",
              " Row(Selecao='Argentina'),\n",
              " Row(Selecao='Belgium'),\n",
              " Row(Selecao='Peru'),\n",
              " Row(Selecao='Croatia'),\n",
              " Row(Selecao='Nigeria'),\n",
              " Row(Selecao='Korea Republic'),\n",
              " Row(Selecao='Spain'),\n",
              " Row(Selecao='Denmark'),\n",
              " Row(Selecao='Morocco'),\n",
              " Row(Selecao='Panama'),\n",
              " Row(Selecao='Iceland'),\n",
              " Row(Selecao='Uruguay'),\n",
              " Row(Selecao='Mexico'),\n",
              " Row(Selecao='Tunisia'),\n",
              " Row(Selecao='Saudi Arabia'),\n",
              " Row(Selecao='Switzerland'),\n",
              " Row(Selecao='Brazil'),\n",
              " Row(Selecao='Japan'),\n",
              " Row(Selecao='England'),\n",
              " Row(Selecao='Poland'),\n",
              " Row(Selecao='Portugal'),\n",
              " Row(Selecao='Australia'),\n",
              " Row(Selecao='Costa Rica'),\n",
              " Row(Selecao='Egypt'),\n",
              " Row(Selecao='Serbia'),\n",
              " Row(Selecao='Colombia')]"
            ]
          },
          "metadata": {},
          "execution_count": 100
        }
      ]
    },
    {
      "cell_type": "code",
      "source": [
        "type(lista[20][0])"
      ],
      "metadata": {
        "colab": {
          "base_uri": "https://localhost:8080/"
        },
        "id": "qnuRt4lf4lSI",
        "outputId": "c1cab423-f815-4109-fdb3-82d523cf7f8e"
      },
      "execution_count": 101,
      "outputs": [
        {
          "output_type": "execute_result",
          "data": {
            "text/plain": [
              "str"
            ]
          },
          "metadata": {},
          "execution_count": 101
        }
      ]
    },
    {
      "cell_type": "code",
      "source": [
        "lista[1][0]"
      ],
      "metadata": {
        "colab": {
          "base_uri": "https://localhost:8080/",
          "height": 35
        },
        "id": "gCyyU-225Ib-",
        "outputId": "c3de5269-170c-4e9e-83a2-7a03b382e11c"
      },
      "execution_count": 102,
      "outputs": [
        {
          "output_type": "execute_result",
          "data": {
            "text/plain": [
              "'Senegal'"
            ],
            "application/vnd.google.colaboratory.intrinsic+json": {
              "type": "string"
            }
          },
          "metadata": {},
          "execution_count": 102
        }
      ]
    },
    {
      "cell_type": "code",
      "source": [
        "paises = []\n",
        "for pais in lista:\n",
        "  paises.append(pais[0])\n",
        "\n",
        "paises"
      ],
      "metadata": {
        "colab": {
          "base_uri": "https://localhost:8080/"
        },
        "id": "FJx2wxx_6O9z",
        "outputId": "d43a9595-c832-4e96-8374-c14e6c3ae15e"
      },
      "execution_count": 103,
      "outputs": [
        {
          "output_type": "execute_result",
          "data": {
            "text/plain": [
              "['Russia',\n",
              " 'Senegal',\n",
              " 'Sweden',\n",
              " 'IR Iran',\n",
              " 'Germany',\n",
              " 'France',\n",
              " 'Argentina',\n",
              " 'Belgium',\n",
              " 'Peru',\n",
              " 'Croatia',\n",
              " 'Nigeria',\n",
              " 'Korea Republic',\n",
              " 'Spain',\n",
              " 'Denmark',\n",
              " 'Morocco',\n",
              " 'Panama',\n",
              " 'Iceland',\n",
              " 'Uruguay',\n",
              " 'Mexico',\n",
              " 'Tunisia',\n",
              " 'Saudi Arabia',\n",
              " 'Switzerland',\n",
              " 'Brazil',\n",
              " 'Japan',\n",
              " 'England',\n",
              " 'Poland',\n",
              " 'Portugal',\n",
              " 'Australia',\n",
              " 'Costa Rica',\n",
              " 'Egypt',\n",
              " 'Serbia',\n",
              " 'Colombia']"
            ]
          },
          "metadata": {},
          "execution_count": 103
        }
      ]
    },
    {
      "cell_type": "markdown",
      "source": [
        "###When / Otherwise()"
      ],
      "metadata": {
        "id": "kgvJqYKt6pgi"
      }
    },
    {
      "cell_type": "code",
      "source": [
        "df.withColumn('Coluna_Nova', when(col('Selecao')== \"Argentina\", 'Argentinos').otherwise('NÂO ARGENTINO')).show(50)"
      ],
      "metadata": {
        "colab": {
          "base_uri": "https://localhost:8080/"
        },
        "id": "k5ej7roz6gEr",
        "outputId": "bddc344f-6487-4f6e-ed55-c84c6ffba2b6"
      },
      "execution_count": 104,
      "outputs": [
        {
          "output_type": "stream",
          "name": "stdout",
          "text": [
            "+---------+------+-------+-------------+--------------------+------+----+---+---+----+---------------+-------------+\n",
            "|  Selecao|Numero|Posicao|Nome_Camiseta|                Time|Altura|Peso|Dia|Mes| Ano|Data_Nascimento|  Coluna_Nova|\n",
            "+---------+------+-------+-------------+--------------------+------+----+---+---+----+---------------+-------------+\n",
            "|Argentina|     3|     DF|   TAGLIAFICO|      AFC Ajax (NED)|   169|  65| 31| 08|1992|     1992-08-31|   Argentinos|\n",
            "|Argentina|    22|     MF|        PAVÓN|CA Boca Juniors (...|   169|  65| 21| 01|1996|     1996-01-21|   Argentinos|\n",
            "|Argentina|    15|     MF|      LANZINI|West Ham United F...|   167|  66| 15| 02|1993|     1993-02-15|   Argentinos|\n",
            "|Argentina|    18|     DF|       SALVIO|    SL Benfica (POR)|   167|  69| 13| 07|1990|     1990-07-13|   Argentinos|\n",
            "|Argentina|    10|     FW|        MESSI|  FC Barcelona (ESP)|   170|  72| 24| 06|1987|     1987-06-24|   Argentinos|\n",
            "|Argentina|     4|     DF|      ANSALDI|     Torino FC (ITA)|   181|  73| 20| 09|1986|     1986-09-20|   Argentinos|\n",
            "|Argentina|     5|     MF|       BIGLIA|      AC Milan (ITA)|   175|  73| 30| 01|1986|     1986-01-30|   Argentinos|\n",
            "|Argentina|     7|     MF|       BANEGA|    Sevilla FC (ESP)|   175|  73| 29| 06|1988|     1988-06-29|   Argentinos|\n",
            "|Argentina|    14|     DF|   MASCHERANO|Hebei China Fortu...|   174|  73| 08| 06|1984|     1984-06-08|   Argentinos|\n",
            "|Argentina|    21|     FW|       DYBALA|   Juventus FC (ITA)|   177|  73| 15| 11|1993|     1993-11-15|   Argentinos|\n",
            "|Argentina|    19|     FW|       AGÜERO|Manchester City F...|   172|  74| 02| 06|1988|     1988-06-02|   Argentinos|\n",
            "|Argentina|     9|     FW|      HIGUAÍN|   Juventus FC (ITA)|   184|  75| 10| 12|1987|     1987-12-10|   Argentinos|\n",
            "|Argentina|    11|     MF|     DI MARÍA|Paris Saint-Germa...|   178|  75| 14| 02|1988|     1988-02-14|   Argentinos|\n",
            "|Argentina|    20|     MF|     LO CELSO|Paris Saint-Germa...|   177|  75| 09| 04|1996|     1996-04-09|   Argentinos|\n",
            "|Argentina|    13|     MF|         MEZA|CA Independiente ...|   180|  76| 15| 12|1992|     1992-12-15|   Argentinos|\n",
            "|Argentina|     8|     DF|        ACUÑA|   Sporting CP (POR)|   172|  77| 28| 10|1991|     1991-10-28|   Argentinos|\n",
            "|Argentina|    23|     GK|    CABALLERO|    Chelsea FC (ENG)|   186|  80| 28| 09|1981|     1981-09-28|   Argentinos|\n",
            "|Argentina|     2|     DF|      MERCADO|    Sevilla FC (ESP)|   181|  81| 18| 03|1987|     1987-03-18|   Argentinos|\n",
            "|Argentina|    17|     DF|     OTAMENDI|Manchester City F...|   181|  81| 12| 02|1988|     1988-02-12|   Argentinos|\n",
            "|Argentina|    16|     DF|         ROJO|Manchester United...|   189|  82| 20| 03|1990|     1990-03-20|   Argentinos|\n",
            "|Argentina|     6|     DF|        FAZIO|       AS Roma (ITA)|   199|  85| 17| 03|1987|     1987-03-17|   Argentinos|\n",
            "|Argentina|    12|     GK|       ARMANI|CA River Plate (ARG)|   189|  85| 16| 10|1986|     1986-10-16|   Argentinos|\n",
            "|Argentina|     1|     GK|       GUZMÁN|   Tigres UANL (MEX)|   192|  90| 10| 02|1986|     1986-02-10|   Argentinos|\n",
            "|Australia|    16|     DF|       BEHICH|     Bursaspor (TUR)|   170|  63| 16| 12|1990|     1990-12-16|NÂO ARGENTINO|\n",
            "|Australia|    10|     FW|        KRUSE|    VfL Bochum (GER)|   180|  66| 05| 10|1988|     1988-10-05|NÂO ARGENTINO|\n",
            "|Australia|    19|     DF|       RISDON|WS Wanderers FC (...|   169|  70| 27| 07|1992|     1992-07-27|NÂO ARGENTINO|\n",
            "|Australia|     3|     DF|     MEREDITH|   Millwall FC (ENG)|   179|  71| 05| 04|1988|     1988-04-05|NÂO ARGENTINO|\n",
            "|Australia|    13|     MF|         MOOY|Huddersfield Town...|   173|  72| 15| 09|1990|     1990-09-15|NÂO ARGENTINO|\n",
            "|Australia|    14|     FW|     MACLAREN|  Hibernian FC (SCO)|   178|  72| 29| 07|1993|     1993-07-29|NÂO ARGENTINO|\n",
            "|Australia|    21|     FW|     PETRATOS|Newcastle United ...|   176|  72| 10| 11|1992|     1992-11-10|NÂO ARGENTINO|\n",
            "|Australia|    17|     FW|       ARZANI|Melbourne City FC...|   171|  73| 04| 01|1999|     1999-01-04|NÂO ARGENTINO|\n",
            "|Australia|     4|     FW|       CAHILL|   Millwall FC (ENG)|   180|  76| 06| 12|1979|     1979-12-06|NÂO ARGENTINO|\n",
            "|Australia|     8|     MF|       LUONGO|Queens Park Range...|   176|  76| 25| 09|1992|     1992-09-25|NÂO ARGENTINO|\n",
            "|Australia|    20|     DF|    SAINSBURY|Grasshopper Club ...|   183|  76| 05| 01|1992|     1992-01-05|NÂO ARGENTINO|\n",
            "|Australia|    22|     MF|       IRVINE|  Hull City FC (ENG)|   180|  77| 07| 03|1993|     1993-03-07|NÂO ARGENTINO|\n",
            "|Australia|     5|     DF|     MILLIGAN|    Al Ahli SC (KSA)|   178|  78| 04| 08|1985|     1985-08-04|NÂO ARGENTINO|\n",
            "|Australia|    15|     MF|      JEDINAK|Aston Villa FC (ENG)|   188|  78| 03| 08|1984|     1984-08-03|NÂO ARGENTINO|\n",
            "|Australia|     9|     FW|        JURIC|     FC Luzern (SUI)|   190|  80| 22| 07|1991|     1991-07-22|NÂO ARGENTINO|\n",
            "|Australia|     1|     GK|         RYAN|Brighton & Hove A...|   184|  82| 08| 04|1992|     1992-04-08|NÂO ARGENTINO|\n",
            "|Australia|     6|     DF|       JURMAN|Suwon Samsung Blu...|   190|  83| 08| 12|1989|     1989-12-08|NÂO ARGENTINO|\n",
            "|Australia|     7|     FW|       LECKIE|    Hertha BSC (GER)|   181|  84| 04| 02|1991|     1991-02-04|NÂO ARGENTINO|\n",
            "|Australia|     2|     DF|      DEGENEK|Yokohama F-Marino...|   187|  85| 28| 04|1994|     1994-04-28|NÂO ARGENTINO|\n",
            "|Australia|    11|     FW|      NABBOUT|    Urawa Reds (JPN)|   178|  85| 17| 12|1992|     1992-12-17|NÂO ARGENTINO|\n",
            "|Australia|    12|     GK|        JONES|Feyenoord Rotterd...|   193|  87| 19| 03|1982|     1982-03-19|NÂO ARGENTINO|\n",
            "|Australia|    23|     MF|        ROGIC|     Celtic FC (SCO)|   189|  88| 16| 12|1992|     1992-12-16|NÂO ARGENTINO|\n",
            "|Australia|    18|     GK|      VUKOVIC|      KRC Genk (BEL)|   187|  94| 27| 03|1985|     1985-03-27|NÂO ARGENTINO|\n",
            "|  Belgium|    14|     FW|      MERTENS|    SSC Napoli (ITA)|   169|  61| 06| 05|1987|     1987-05-06|NÂO ARGENTINO|\n",
            "|  Belgium|    11|     MF|     CARRASCO|Dalian Yifang FC ...|   180|  67| 04| 09|1993|     1993-09-04|NÂO ARGENTINO|\n",
            "|  Belgium|     7|     MF|    DE BRUYNE|Manchester City F...|   181|  70| 28| 06|1991|     1991-06-28|NÂO ARGENTINO|\n",
            "|  Belgium|    16|     MF|    T. HAZARD|VfL Borussia Mönc...|   174|  70| 29| 03|1993|     1993-03-29|NÂO ARGENTINO|\n",
            "+---------+------+-------+-------------+--------------------+------+----+---+---+----+---------------+-------------+\n",
            "only showing top 50 rows\n",
            "\n"
          ]
        }
      ]
    },
    {
      "cell_type": "code",
      "source": [
        "europa        = ['Sweden', 'Germany', 'France', 'Belgium', 'Croatia', 'Spain', 'Denmark', 'Iceland', 'Switzerland', 'England', 'Poland', 'Portugal', 'Serbia']\n",
        "asia          = ['Russia', 'IR Iran', 'Korea Republic', 'Saudi Arabia', 'Japan']\n",
        "africa        = ['Senegal', 'Nigeria', 'Morocco', 'Tunisia', 'Egypt']\n",
        "oceania       = ['Australia']\n",
        "america_norte = ['Panama', 'Mexico', 'Costa Rica']\n",
        "america_sul   = ['Argentina', 'Peru', 'Uruguay', 'Brazil', 'Colombia']"
      ],
      "metadata": {
        "id": "H7dzDt487euy"
      },
      "execution_count": 105,
      "outputs": []
    },
    {
      "cell_type": "code",
      "source": [
        "df = df.withColumn('Continente', when(col('Selecao').isin(europa), 'Europa')\\\n",
        "              .when(col('Selecao').isin(asia), 'Asia')\\\n",
        "              .when(col('Selecao').isin(africa), 'Africa')\\\n",
        "              .when(col('Selecao').isin(oceania), 'Oceania')\\\n",
        "              .when(col('Selecao').isin(america_norte),'America do Norte')\\\n",
        "              .when(col('Selecao').isin(america_sul), 'America do Sul')\\\n",
        "              .otherwise('Verificar')\n",
        "              )"
      ],
      "metadata": {
        "id": "1pe1P1dO8tED"
      },
      "execution_count": 106,
      "outputs": []
    },
    {
      "cell_type": "code",
      "source": [
        "df.show(50)"
      ],
      "metadata": {
        "colab": {
          "base_uri": "https://localhost:8080/"
        },
        "id": "MMUPocgA9ogX",
        "outputId": "e23df2cc-0009-4e82-dda6-1014c19b1d2e"
      },
      "execution_count": 107,
      "outputs": [
        {
          "output_type": "stream",
          "name": "stdout",
          "text": [
            "+---------+------+-------+-------------+--------------------+------+----+---+---+----+---------------+--------------+\n",
            "|  Selecao|Numero|Posicao|Nome_Camiseta|                Time|Altura|Peso|Dia|Mes| Ano|Data_Nascimento|    Continente|\n",
            "+---------+------+-------+-------------+--------------------+------+----+---+---+----+---------------+--------------+\n",
            "|Argentina|     3|     DF|   TAGLIAFICO|      AFC Ajax (NED)|   169|  65| 31| 08|1992|     1992-08-31|America do Sul|\n",
            "|Argentina|    22|     MF|        PAVÓN|CA Boca Juniors (...|   169|  65| 21| 01|1996|     1996-01-21|America do Sul|\n",
            "|Argentina|    15|     MF|      LANZINI|West Ham United F...|   167|  66| 15| 02|1993|     1993-02-15|America do Sul|\n",
            "|Argentina|    18|     DF|       SALVIO|    SL Benfica (POR)|   167|  69| 13| 07|1990|     1990-07-13|America do Sul|\n",
            "|Argentina|    10|     FW|        MESSI|  FC Barcelona (ESP)|   170|  72| 24| 06|1987|     1987-06-24|America do Sul|\n",
            "|Argentina|     4|     DF|      ANSALDI|     Torino FC (ITA)|   181|  73| 20| 09|1986|     1986-09-20|America do Sul|\n",
            "|Argentina|     5|     MF|       BIGLIA|      AC Milan (ITA)|   175|  73| 30| 01|1986|     1986-01-30|America do Sul|\n",
            "|Argentina|     7|     MF|       BANEGA|    Sevilla FC (ESP)|   175|  73| 29| 06|1988|     1988-06-29|America do Sul|\n",
            "|Argentina|    14|     DF|   MASCHERANO|Hebei China Fortu...|   174|  73| 08| 06|1984|     1984-06-08|America do Sul|\n",
            "|Argentina|    21|     FW|       DYBALA|   Juventus FC (ITA)|   177|  73| 15| 11|1993|     1993-11-15|America do Sul|\n",
            "|Argentina|    19|     FW|       AGÜERO|Manchester City F...|   172|  74| 02| 06|1988|     1988-06-02|America do Sul|\n",
            "|Argentina|     9|     FW|      HIGUAÍN|   Juventus FC (ITA)|   184|  75| 10| 12|1987|     1987-12-10|America do Sul|\n",
            "|Argentina|    11|     MF|     DI MARÍA|Paris Saint-Germa...|   178|  75| 14| 02|1988|     1988-02-14|America do Sul|\n",
            "|Argentina|    20|     MF|     LO CELSO|Paris Saint-Germa...|   177|  75| 09| 04|1996|     1996-04-09|America do Sul|\n",
            "|Argentina|    13|     MF|         MEZA|CA Independiente ...|   180|  76| 15| 12|1992|     1992-12-15|America do Sul|\n",
            "|Argentina|     8|     DF|        ACUÑA|   Sporting CP (POR)|   172|  77| 28| 10|1991|     1991-10-28|America do Sul|\n",
            "|Argentina|    23|     GK|    CABALLERO|    Chelsea FC (ENG)|   186|  80| 28| 09|1981|     1981-09-28|America do Sul|\n",
            "|Argentina|     2|     DF|      MERCADO|    Sevilla FC (ESP)|   181|  81| 18| 03|1987|     1987-03-18|America do Sul|\n",
            "|Argentina|    17|     DF|     OTAMENDI|Manchester City F...|   181|  81| 12| 02|1988|     1988-02-12|America do Sul|\n",
            "|Argentina|    16|     DF|         ROJO|Manchester United...|   189|  82| 20| 03|1990|     1990-03-20|America do Sul|\n",
            "|Argentina|     6|     DF|        FAZIO|       AS Roma (ITA)|   199|  85| 17| 03|1987|     1987-03-17|America do Sul|\n",
            "|Argentina|    12|     GK|       ARMANI|CA River Plate (ARG)|   189|  85| 16| 10|1986|     1986-10-16|America do Sul|\n",
            "|Argentina|     1|     GK|       GUZMÁN|   Tigres UANL (MEX)|   192|  90| 10| 02|1986|     1986-02-10|America do Sul|\n",
            "|Australia|    16|     DF|       BEHICH|     Bursaspor (TUR)|   170|  63| 16| 12|1990|     1990-12-16|       Oceania|\n",
            "|Australia|    10|     FW|        KRUSE|    VfL Bochum (GER)|   180|  66| 05| 10|1988|     1988-10-05|       Oceania|\n",
            "|Australia|    19|     DF|       RISDON|WS Wanderers FC (...|   169|  70| 27| 07|1992|     1992-07-27|       Oceania|\n",
            "|Australia|     3|     DF|     MEREDITH|   Millwall FC (ENG)|   179|  71| 05| 04|1988|     1988-04-05|       Oceania|\n",
            "|Australia|    13|     MF|         MOOY|Huddersfield Town...|   173|  72| 15| 09|1990|     1990-09-15|       Oceania|\n",
            "|Australia|    14|     FW|     MACLAREN|  Hibernian FC (SCO)|   178|  72| 29| 07|1993|     1993-07-29|       Oceania|\n",
            "|Australia|    21|     FW|     PETRATOS|Newcastle United ...|   176|  72| 10| 11|1992|     1992-11-10|       Oceania|\n",
            "|Australia|    17|     FW|       ARZANI|Melbourne City FC...|   171|  73| 04| 01|1999|     1999-01-04|       Oceania|\n",
            "|Australia|     4|     FW|       CAHILL|   Millwall FC (ENG)|   180|  76| 06| 12|1979|     1979-12-06|       Oceania|\n",
            "|Australia|     8|     MF|       LUONGO|Queens Park Range...|   176|  76| 25| 09|1992|     1992-09-25|       Oceania|\n",
            "|Australia|    20|     DF|    SAINSBURY|Grasshopper Club ...|   183|  76| 05| 01|1992|     1992-01-05|       Oceania|\n",
            "|Australia|    22|     MF|       IRVINE|  Hull City FC (ENG)|   180|  77| 07| 03|1993|     1993-03-07|       Oceania|\n",
            "|Australia|     5|     DF|     MILLIGAN|    Al Ahli SC (KSA)|   178|  78| 04| 08|1985|     1985-08-04|       Oceania|\n",
            "|Australia|    15|     MF|      JEDINAK|Aston Villa FC (ENG)|   188|  78| 03| 08|1984|     1984-08-03|       Oceania|\n",
            "|Australia|     9|     FW|        JURIC|     FC Luzern (SUI)|   190|  80| 22| 07|1991|     1991-07-22|       Oceania|\n",
            "|Australia|     1|     GK|         RYAN|Brighton & Hove A...|   184|  82| 08| 04|1992|     1992-04-08|       Oceania|\n",
            "|Australia|     6|     DF|       JURMAN|Suwon Samsung Blu...|   190|  83| 08| 12|1989|     1989-12-08|       Oceania|\n",
            "|Australia|     7|     FW|       LECKIE|    Hertha BSC (GER)|   181|  84| 04| 02|1991|     1991-02-04|       Oceania|\n",
            "|Australia|     2|     DF|      DEGENEK|Yokohama F-Marino...|   187|  85| 28| 04|1994|     1994-04-28|       Oceania|\n",
            "|Australia|    11|     FW|      NABBOUT|    Urawa Reds (JPN)|   178|  85| 17| 12|1992|     1992-12-17|       Oceania|\n",
            "|Australia|    12|     GK|        JONES|Feyenoord Rotterd...|   193|  87| 19| 03|1982|     1982-03-19|       Oceania|\n",
            "|Australia|    23|     MF|        ROGIC|     Celtic FC (SCO)|   189|  88| 16| 12|1992|     1992-12-16|       Oceania|\n",
            "|Australia|    18|     GK|      VUKOVIC|      KRC Genk (BEL)|   187|  94| 27| 03|1985|     1985-03-27|       Oceania|\n",
            "|  Belgium|    14|     FW|      MERTENS|    SSC Napoli (ITA)|   169|  61| 06| 05|1987|     1987-05-06|        Europa|\n",
            "|  Belgium|    11|     MF|     CARRASCO|Dalian Yifang FC ...|   180|  67| 04| 09|1993|     1993-09-04|        Europa|\n",
            "|  Belgium|     7|     MF|    DE BRUYNE|Manchester City F...|   181|  70| 28| 06|1991|     1991-06-28|        Europa|\n",
            "|  Belgium|    16|     MF|    T. HAZARD|VfL Borussia Mönc...|   174|  70| 29| 03|1993|     1993-03-29|        Europa|\n",
            "+---------+------+-------+-------------+--------------------+------+----+---+---+----+---------------+--------------+\n",
            "only showing top 50 rows\n",
            "\n"
          ]
        }
      ]
    },
    {
      "cell_type": "markdown",
      "source": [
        "###Union (Concat)"
      ],
      "metadata": {
        "id": "KjYTz12k_DbF"
      }
    },
    {
      "cell_type": "code",
      "source": [
        "df_america_sul = df.filter('Continente == \"America do Sul\"')\n",
        "df_america_sul.select('Selecao'). distinct().show()"
      ],
      "metadata": {
        "colab": {
          "base_uri": "https://localhost:8080/"
        },
        "id": "Sc6ovwMW_B5Y",
        "outputId": "c0ab8466-f588-4f6a-ca55-1d7c41498861"
      },
      "execution_count": 108,
      "outputs": [
        {
          "output_type": "stream",
          "name": "stdout",
          "text": [
            "+---------+\n",
            "|  Selecao|\n",
            "+---------+\n",
            "|Argentina|\n",
            "|     Peru|\n",
            "|  Uruguay|\n",
            "|   Brazil|\n",
            "| Colombia|\n",
            "+---------+\n",
            "\n"
          ]
        }
      ]
    },
    {
      "cell_type": "code",
      "source": [
        "df_america_norte = df.filter('Continente == \"America do Norte\"')\n",
        "df_america_norte.select('Selecao'). distinct().show()"
      ],
      "metadata": {
        "colab": {
          "base_uri": "https://localhost:8080/"
        },
        "id": "mSdLFDd3_ijU",
        "outputId": "301bdb7e-a5e7-481c-e952-ac5447ee9d89"
      },
      "execution_count": 109,
      "outputs": [
        {
          "output_type": "stream",
          "name": "stdout",
          "text": [
            "+----------+\n",
            "|   Selecao|\n",
            "+----------+\n",
            "|    Panama|\n",
            "|    Mexico|\n",
            "|Costa Rica|\n",
            "+----------+\n",
            "\n"
          ]
        }
      ]
    },
    {
      "cell_type": "code",
      "source": [
        "df_americas = df_america_sul.union(df_america_norte)"
      ],
      "metadata": {
        "id": "YwnO0g4q_vd4"
      },
      "execution_count": 110,
      "outputs": []
    },
    {
      "cell_type": "code",
      "source": [
        "df_americas.select('Selecao'). distinct().show()"
      ],
      "metadata": {
        "colab": {
          "base_uri": "https://localhost:8080/"
        },
        "id": "2tmPcv70AWWZ",
        "outputId": "146d0050-5ef9-4cf8-e17b-8e8f7775c397"
      },
      "execution_count": 111,
      "outputs": [
        {
          "output_type": "stream",
          "name": "stdout",
          "text": [
            "+----------+\n",
            "|   Selecao|\n",
            "+----------+\n",
            "| Argentina|\n",
            "|      Peru|\n",
            "|   Uruguay|\n",
            "|    Brazil|\n",
            "|  Colombia|\n",
            "|    Panama|\n",
            "|    Mexico|\n",
            "|Costa Rica|\n",
            "+----------+\n",
            "\n"
          ]
        }
      ]
    },
    {
      "cell_type": "code",
      "source": [
        "df_america_sul = df_america_sul.drop('Continente')"
      ],
      "metadata": {
        "id": "yKiTG_nAAYfE"
      },
      "execution_count": 112,
      "outputs": []
    },
    {
      "cell_type": "code",
      "source": [
        "df_america_sul.show()"
      ],
      "metadata": {
        "colab": {
          "base_uri": "https://localhost:8080/"
        },
        "id": "3tchD7uABB5_",
        "outputId": "98427fdf-eeba-47bb-b42f-6e3244872dbf"
      },
      "execution_count": 113,
      "outputs": [
        {
          "output_type": "stream",
          "name": "stdout",
          "text": [
            "+---------+------+-------+-------------+--------------------+------+----+---+---+----+---------------+\n",
            "|  Selecao|Numero|Posicao|Nome_Camiseta|                Time|Altura|Peso|Dia|Mes| Ano|Data_Nascimento|\n",
            "+---------+------+-------+-------------+--------------------+------+----+---+---+----+---------------+\n",
            "|Argentina|     3|     DF|   TAGLIAFICO|      AFC Ajax (NED)|   169|  65| 31| 08|1992|     1992-08-31|\n",
            "|Argentina|    22|     MF|        PAVÓN|CA Boca Juniors (...|   169|  65| 21| 01|1996|     1996-01-21|\n",
            "|Argentina|    15|     MF|      LANZINI|West Ham United F...|   167|  66| 15| 02|1993|     1993-02-15|\n",
            "|Argentina|    18|     DF|       SALVIO|    SL Benfica (POR)|   167|  69| 13| 07|1990|     1990-07-13|\n",
            "|Argentina|    10|     FW|        MESSI|  FC Barcelona (ESP)|   170|  72| 24| 06|1987|     1987-06-24|\n",
            "|Argentina|     4|     DF|      ANSALDI|     Torino FC (ITA)|   181|  73| 20| 09|1986|     1986-09-20|\n",
            "|Argentina|     5|     MF|       BIGLIA|      AC Milan (ITA)|   175|  73| 30| 01|1986|     1986-01-30|\n",
            "|Argentina|     7|     MF|       BANEGA|    Sevilla FC (ESP)|   175|  73| 29| 06|1988|     1988-06-29|\n",
            "|Argentina|    14|     DF|   MASCHERANO|Hebei China Fortu...|   174|  73| 08| 06|1984|     1984-06-08|\n",
            "|Argentina|    21|     FW|       DYBALA|   Juventus FC (ITA)|   177|  73| 15| 11|1993|     1993-11-15|\n",
            "|Argentina|    19|     FW|       AGÜERO|Manchester City F...|   172|  74| 02| 06|1988|     1988-06-02|\n",
            "|Argentina|     9|     FW|      HIGUAÍN|   Juventus FC (ITA)|   184|  75| 10| 12|1987|     1987-12-10|\n",
            "|Argentina|    11|     MF|     DI MARÍA|Paris Saint-Germa...|   178|  75| 14| 02|1988|     1988-02-14|\n",
            "|Argentina|    20|     MF|     LO CELSO|Paris Saint-Germa...|   177|  75| 09| 04|1996|     1996-04-09|\n",
            "|Argentina|    13|     MF|         MEZA|CA Independiente ...|   180|  76| 15| 12|1992|     1992-12-15|\n",
            "|Argentina|     8|     DF|        ACUÑA|   Sporting CP (POR)|   172|  77| 28| 10|1991|     1991-10-28|\n",
            "|Argentina|    23|     GK|    CABALLERO|    Chelsea FC (ENG)|   186|  80| 28| 09|1981|     1981-09-28|\n",
            "|Argentina|     2|     DF|      MERCADO|    Sevilla FC (ESP)|   181|  81| 18| 03|1987|     1987-03-18|\n",
            "|Argentina|    17|     DF|     OTAMENDI|Manchester City F...|   181|  81| 12| 02|1988|     1988-02-12|\n",
            "|Argentina|    16|     DF|         ROJO|Manchester United...|   189|  82| 20| 03|1990|     1990-03-20|\n",
            "+---------+------+-------+-------------+--------------------+------+----+---+---+----+---------------+\n",
            "only showing top 20 rows\n",
            "\n"
          ]
        }
      ]
    },
    {
      "cell_type": "markdown",
      "source": [
        "###JOIN"
      ],
      "metadata": {
        "id": "54jaoFbVDI7n"
      }
    },
    {
      "cell_type": "code",
      "source": [
        "arg = df.filter('Selecao == \"Argentina\"')\n",
        "bra = df.filter('Selecao == \"Brazil\"')"
      ],
      "metadata": {
        "id": "G3qwvtubBO5V"
      },
      "execution_count": 114,
      "outputs": []
    },
    {
      "cell_type": "code",
      "source": [
        "arg = arg.drop ('Time', 'Dia', 'Mes', 'Ano', 'Continente', 'Peso', 'Data_Nascimento')\n",
        "bra = bra.drop ('Time', 'Dia', 'Mes', 'Ano', 'Continente', 'Peso', 'Data_Nascimento')"
      ],
      "metadata": {
        "id": "JhZ2U8jrDmlH"
      },
      "execution_count": 115,
      "outputs": []
    },
    {
      "cell_type": "markdown",
      "source": [
        "###Join Simples"
      ],
      "metadata": {
        "id": "VJflvVFoERnm"
      }
    },
    {
      "cell_type": "code",
      "source": [
        "# Dados dos joins 100% correspondentes"
      ],
      "metadata": {
        "id": "mZHV9gz7ILvv"
      },
      "execution_count": 126,
      "outputs": []
    },
    {
      "cell_type": "code",
      "source": [
        "dfnovo = arg.join(bra, arg.Numero == bra.Numero)\n",
        "dfnovo.show(25)"
      ],
      "metadata": {
        "colab": {
          "base_uri": "https://localhost:8080/"
        },
        "id": "oILivBWCD1Bt",
        "outputId": "51c51afa-65ea-4dbf-aa61-c411c83b047c"
      },
      "execution_count": 116,
      "outputs": [
        {
          "output_type": "stream",
          "name": "stdout",
          "text": [
            "+---------+------+-------+-------------+------+-------+------+-------+-------------+------+\n",
            "|  Selecao|Numero|Posicao|Nome_Camiseta|Altura|Selecao|Numero|Posicao|Nome_Camiseta|Altura|\n",
            "+---------+------+-------+-------------+------+-------+------+-------+-------------+------+\n",
            "|Argentina|     3|     DF|   TAGLIAFICO|   169| Brazil|     3|     DF|      MIRANDA|   186|\n",
            "|Argentina|    22|     MF|        PAVÓN|   169| Brazil|    22|     DF|       FAGNER|   168|\n",
            "|Argentina|    15|     MF|      LANZINI|   167| Brazil|    15|     MF|     PAULINHO|   181|\n",
            "|Argentina|    18|     DF|       SALVIO|   167| Brazil|    18|     MF|         FRED|   169|\n",
            "|Argentina|    10|     FW|        MESSI|   170| Brazil|    10|     FW|    NEYMAR JR|   175|\n",
            "|Argentina|     4|     DF|      ANSALDI|   181| Brazil|     4|     DF|      GEROMEL|   190|\n",
            "|Argentina|     5|     MF|       BIGLIA|   175| Brazil|     5|     MF|     CASEMIRO|   185|\n",
            "|Argentina|     7|     MF|       BANEGA|   175| Brazil|     7|     FW|     D. COSTA|   182|\n",
            "|Argentina|    14|     DF|   MASCHERANO|   174| Brazil|    14|     DF|       DANILO|   184|\n",
            "|Argentina|    21|     FW|       DYBALA|   177| Brazil|    21|     FW|       TAISON|   172|\n",
            "|Argentina|    19|     FW|       AGÜERO|   172| Brazil|    19|     MF|      WILLIAN|   175|\n",
            "|Argentina|     9|     FW|      HIGUAÍN|   184| Brazil|     9|     FW|     G. JESUS|   175|\n",
            "|Argentina|    11|     MF|     DI MARÍA|   178| Brazil|    11|     MF|  P. COUTINHO|   172|\n",
            "|Argentina|    20|     MF|     LO CELSO|   177| Brazil|    20|     FW|      FIRMINO|   181|\n",
            "|Argentina|    13|     MF|         MEZA|   180| Brazil|    13|     DF|   MARQUINHOS|   183|\n",
            "|Argentina|     8|     DF|        ACUÑA|   172| Brazil|     8|     MF|   R. AUGUSTO|   186|\n",
            "|Argentina|    23|     GK|    CABALLERO|   186| Brazil|    23|     GK|      EDERSON|   188|\n",
            "|Argentina|     2|     DF|      MERCADO|   181| Brazil|     2|     DF|     T. SILVA|   183|\n",
            "|Argentina|    17|     DF|     OTAMENDI|   181| Brazil|    17|     MF|  FERNANDINHO|   179|\n",
            "|Argentina|    16|     DF|         ROJO|   189| Brazil|    16|     GK|       CASSIO|   195|\n",
            "|Argentina|     6|     DF|        FAZIO|   199| Brazil|     6|     DF|  FILIPE LUIS|   182|\n",
            "|Argentina|    12|     GK|       ARMANI|   189| Brazil|    12|     DF|      MARCELO|   174|\n",
            "|Argentina|     1|     GK|       GUZMÁN|   192| Brazil|     1|     GK|    A. BECKER|   193|\n",
            "+---------+------+-------+-------------+------+-------+------+-------+-------------+------+\n",
            "\n"
          ]
        }
      ]
    },
    {
      "cell_type": "code",
      "source": [
        "arg = arg.withColumn('Numero', col('Numero') + 1)"
      ],
      "metadata": {
        "id": "IIn5mr30FWMg"
      },
      "execution_count": 117,
      "outputs": []
    },
    {
      "cell_type": "markdown",
      "source": [
        "###Inner Join"
      ],
      "metadata": {
        "id": "l_o81BI5FMne"
      }
    },
    {
      "cell_type": "code",
      "source": [
        "# Mostra apenas os dados que tem correspondência"
      ],
      "metadata": {
        "id": "Pm6UFhX3IRMd"
      },
      "execution_count": null,
      "outputs": []
    },
    {
      "cell_type": "code",
      "source": [
        "dfnovo = arg.join(bra, arg['Numero'] == bra['Numero'], 'inner')\n",
        "dfnovo.show(50)"
      ],
      "metadata": {
        "colab": {
          "base_uri": "https://localhost:8080/"
        },
        "id": "Xr3KX0hEEi6Y",
        "outputId": "98dfd17c-b883-4aa3-aa89-17885676d31f"
      },
      "execution_count": 118,
      "outputs": [
        {
          "output_type": "stream",
          "name": "stdout",
          "text": [
            "+---------+------+-------+-------------+------+-------+------+-------+-------------+------+\n",
            "|  Selecao|Numero|Posicao|Nome_Camiseta|Altura|Selecao|Numero|Posicao|Nome_Camiseta|Altura|\n",
            "+---------+------+-------+-------------+------+-------+------+-------+-------------+------+\n",
            "|Argentina|     4|     DF|   TAGLIAFICO|   169| Brazil|     4|     DF|      GEROMEL|   190|\n",
            "|Argentina|    23|     MF|        PAVÓN|   169| Brazil|    23|     GK|      EDERSON|   188|\n",
            "|Argentina|    16|     MF|      LANZINI|   167| Brazil|    16|     GK|       CASSIO|   195|\n",
            "|Argentina|    19|     DF|       SALVIO|   167| Brazil|    19|     MF|      WILLIAN|   175|\n",
            "|Argentina|    11|     FW|        MESSI|   170| Brazil|    11|     MF|  P. COUTINHO|   172|\n",
            "|Argentina|     5|     DF|      ANSALDI|   181| Brazil|     5|     MF|     CASEMIRO|   185|\n",
            "|Argentina|     6|     MF|       BIGLIA|   175| Brazil|     6|     DF|  FILIPE LUIS|   182|\n",
            "|Argentina|     8|     MF|       BANEGA|   175| Brazil|     8|     MF|   R. AUGUSTO|   186|\n",
            "|Argentina|    15|     DF|   MASCHERANO|   174| Brazil|    15|     MF|     PAULINHO|   181|\n",
            "|Argentina|    22|     FW|       DYBALA|   177| Brazil|    22|     DF|       FAGNER|   168|\n",
            "|Argentina|    20|     FW|       AGÜERO|   172| Brazil|    20|     FW|      FIRMINO|   181|\n",
            "|Argentina|    10|     FW|      HIGUAÍN|   184| Brazil|    10|     FW|    NEYMAR JR|   175|\n",
            "|Argentina|    12|     MF|     DI MARÍA|   178| Brazil|    12|     DF|      MARCELO|   174|\n",
            "|Argentina|    21|     MF|     LO CELSO|   177| Brazil|    21|     FW|       TAISON|   172|\n",
            "|Argentina|    14|     MF|         MEZA|   180| Brazil|    14|     DF|       DANILO|   184|\n",
            "|Argentina|     9|     DF|        ACUÑA|   172| Brazil|     9|     FW|     G. JESUS|   175|\n",
            "|Argentina|     3|     DF|      MERCADO|   181| Brazil|     3|     DF|      MIRANDA|   186|\n",
            "|Argentina|    18|     DF|     OTAMENDI|   181| Brazil|    18|     MF|         FRED|   169|\n",
            "|Argentina|    17|     DF|         ROJO|   189| Brazil|    17|     MF|  FERNANDINHO|   179|\n",
            "|Argentina|     7|     DF|        FAZIO|   199| Brazil|     7|     FW|     D. COSTA|   182|\n",
            "|Argentina|    13|     GK|       ARMANI|   189| Brazil|    13|     DF|   MARQUINHOS|   183|\n",
            "|Argentina|     2|     GK|       GUZMÁN|   192| Brazil|     2|     DF|     T. SILVA|   183|\n",
            "+---------+------+-------+-------------+------+-------+------+-------+-------------+------+\n",
            "\n"
          ]
        }
      ]
    },
    {
      "cell_type": "code",
      "source": [
        "dfnovo.count()"
      ],
      "metadata": {
        "colab": {
          "base_uri": "https://localhost:8080/"
        },
        "id": "gfJARMEfGuYB",
        "outputId": "70cf74b4-95d7-4c9b-fedb-6db700a4ff59"
      },
      "execution_count": 119,
      "outputs": [
        {
          "output_type": "execute_result",
          "data": {
            "text/plain": [
              "22"
            ]
          },
          "metadata": {},
          "execution_count": 119
        }
      ]
    },
    {
      "cell_type": "markdown",
      "source": [
        "###Left Join"
      ],
      "metadata": {
        "id": "CtbUAsIeFIlB"
      }
    },
    {
      "cell_type": "code",
      "source": [
        "# Mostra todos os lados dos DF do lado ESQUERDO\n",
        "# (Valores do lado dir que não tiverem correspondência serão mostrados como nulos)"
      ],
      "metadata": {
        "id": "NmPttACbIUTx"
      },
      "execution_count": null,
      "outputs": []
    },
    {
      "cell_type": "code",
      "source": [
        "dfnovo = arg.join(bra, arg['Numero'] == bra['Numero'], 'left')\n",
        "dfnovo.show(50)"
      ],
      "metadata": {
        "colab": {
          "base_uri": "https://localhost:8080/"
        },
        "id": "T_PfD1tlFOlP",
        "outputId": "d41d8131-fb1c-4aa6-9e69-5e1c1428b53d"
      },
      "execution_count": 120,
      "outputs": [
        {
          "output_type": "stream",
          "name": "stdout",
          "text": [
            "+---------+------+-------+-------------+------+-------+------+-------+-------------+------+\n",
            "|  Selecao|Numero|Posicao|Nome_Camiseta|Altura|Selecao|Numero|Posicao|Nome_Camiseta|Altura|\n",
            "+---------+------+-------+-------------+------+-------+------+-------+-------------+------+\n",
            "|Argentina|     4|     DF|   TAGLIAFICO|   169| Brazil|     4|     DF|      GEROMEL|   190|\n",
            "|Argentina|    23|     MF|        PAVÓN|   169| Brazil|    23|     GK|      EDERSON|   188|\n",
            "|Argentina|    16|     MF|      LANZINI|   167| Brazil|    16|     GK|       CASSIO|   195|\n",
            "|Argentina|    19|     DF|       SALVIO|   167| Brazil|    19|     MF|      WILLIAN|   175|\n",
            "|Argentina|    11|     FW|        MESSI|   170| Brazil|    11|     MF|  P. COUTINHO|   172|\n",
            "|Argentina|     5|     DF|      ANSALDI|   181| Brazil|     5|     MF|     CASEMIRO|   185|\n",
            "|Argentina|     6|     MF|       BIGLIA|   175| Brazil|     6|     DF|  FILIPE LUIS|   182|\n",
            "|Argentina|     8|     MF|       BANEGA|   175| Brazil|     8|     MF|   R. AUGUSTO|   186|\n",
            "|Argentina|    15|     DF|   MASCHERANO|   174| Brazil|    15|     MF|     PAULINHO|   181|\n",
            "|Argentina|    22|     FW|       DYBALA|   177| Brazil|    22|     DF|       FAGNER|   168|\n",
            "|Argentina|    20|     FW|       AGÜERO|   172| Brazil|    20|     FW|      FIRMINO|   181|\n",
            "|Argentina|    10|     FW|      HIGUAÍN|   184| Brazil|    10|     FW|    NEYMAR JR|   175|\n",
            "|Argentina|    12|     MF|     DI MARÍA|   178| Brazil|    12|     DF|      MARCELO|   174|\n",
            "|Argentina|    21|     MF|     LO CELSO|   177| Brazil|    21|     FW|       TAISON|   172|\n",
            "|Argentina|    14|     MF|         MEZA|   180| Brazil|    14|     DF|       DANILO|   184|\n",
            "|Argentina|     9|     DF|        ACUÑA|   172| Brazil|     9|     FW|     G. JESUS|   175|\n",
            "|Argentina|    24|     GK|    CABALLERO|   186|   NULL|  NULL|   NULL|         NULL|  NULL|\n",
            "|Argentina|     3|     DF|      MERCADO|   181| Brazil|     3|     DF|      MIRANDA|   186|\n",
            "|Argentina|    18|     DF|     OTAMENDI|   181| Brazil|    18|     MF|         FRED|   169|\n",
            "|Argentina|    17|     DF|         ROJO|   189| Brazil|    17|     MF|  FERNANDINHO|   179|\n",
            "|Argentina|     7|     DF|        FAZIO|   199| Brazil|     7|     FW|     D. COSTA|   182|\n",
            "|Argentina|    13|     GK|       ARMANI|   189| Brazil|    13|     DF|   MARQUINHOS|   183|\n",
            "|Argentina|     2|     GK|       GUZMÁN|   192| Brazil|     2|     DF|     T. SILVA|   183|\n",
            "+---------+------+-------+-------------+------+-------+------+-------+-------------+------+\n",
            "\n"
          ]
        }
      ]
    },
    {
      "cell_type": "markdown",
      "source": [
        "###Rigth Join"
      ],
      "metadata": {
        "id": "MCPwlPYyHF2y"
      }
    },
    {
      "cell_type": "code",
      "source": [
        "# Mostra todos os lados dos DF do lado DIREITO\n",
        "# (Valores do lado esq que não tiverem correspondência serão mostrados como nulos)"
      ],
      "metadata": {
        "id": "S0fma0ceIUwZ"
      },
      "execution_count": null,
      "outputs": []
    },
    {
      "cell_type": "code",
      "source": [
        "dfnovo = arg.join(bra, arg['Numero'] == bra['Numero'], 'right')\n",
        "dfnovo.show(50)"
      ],
      "metadata": {
        "colab": {
          "base_uri": "https://localhost:8080/"
        },
        "id": "g0ZloLRCG30B",
        "outputId": "830a1b36-28a8-403f-df05-c9f172d2608f"
      },
      "execution_count": 121,
      "outputs": [
        {
          "output_type": "stream",
          "name": "stdout",
          "text": [
            "+---------+------+-------+-------------+------+-------+------+-------+-------------+------+\n",
            "|  Selecao|Numero|Posicao|Nome_Camiseta|Altura|Selecao|Numero|Posicao|Nome_Camiseta|Altura|\n",
            "+---------+------+-------+-------------+------+-------+------+-------+-------------+------+\n",
            "|Argentina|    18|     DF|     OTAMENDI|   181| Brazil|    18|     MF|         FRED|   169|\n",
            "|Argentina|    21|     MF|     LO CELSO|   177| Brazil|    21|     FW|       TAISON|   172|\n",
            "|Argentina|    17|     DF|         ROJO|   189| Brazil|    17|     MF|  FERNANDINHO|   179|\n",
            "|Argentina|    22|     FW|       DYBALA|   177| Brazil|    22|     DF|       FAGNER|   168|\n",
            "|Argentina|    10|     FW|      HIGUAÍN|   184| Brazil|    10|     FW|    NEYMAR JR|   175|\n",
            "|Argentina|    11|     FW|        MESSI|   170| Brazil|    11|     MF|  P. COUTINHO|   172|\n",
            "|Argentina|     7|     DF|        FAZIO|   199| Brazil|     7|     FW|     D. COSTA|   182|\n",
            "|Argentina|     6|     MF|       BIGLIA|   175| Brazil|     6|     DF|  FILIPE LUIS|   182|\n",
            "|Argentina|     9|     DF|        ACUÑA|   172| Brazil|     9|     FW|     G. JESUS|   175|\n",
            "|Argentina|    13|     GK|       ARMANI|   189| Brazil|    13|     DF|   MARQUINHOS|   183|\n",
            "|Argentina|    20|     FW|       AGÜERO|   172| Brazil|    20|     FW|      FIRMINO|   181|\n",
            "|Argentina|    19|     DF|       SALVIO|   167| Brazil|    19|     MF|      WILLIAN|   175|\n",
            "|Argentina|     3|     DF|      MERCADO|   181| Brazil|     3|     DF|      MIRANDA|   186|\n",
            "|Argentina|    14|     MF|         MEZA|   180| Brazil|    14|     DF|       DANILO|   184|\n",
            "|Argentina|     2|     GK|       GUZMÁN|   192| Brazil|     2|     DF|     T. SILVA|   183|\n",
            "|Argentina|    12|     MF|     DI MARÍA|   178| Brazil|    12|     DF|      MARCELO|   174|\n",
            "|Argentina|    15|     DF|   MASCHERANO|   174| Brazil|    15|     MF|     PAULINHO|   181|\n",
            "|Argentina|     4|     DF|   TAGLIAFICO|   169| Brazil|     4|     DF|      GEROMEL|   190|\n",
            "|Argentina|     5|     DF|      ANSALDI|   181| Brazil|     5|     MF|     CASEMIRO|   185|\n",
            "|Argentina|     8|     MF|       BANEGA|   175| Brazil|     8|     MF|   R. AUGUSTO|   186|\n",
            "|Argentina|    23|     MF|        PAVÓN|   169| Brazil|    23|     GK|      EDERSON|   188|\n",
            "|     NULL|  NULL|   NULL|         NULL|  NULL| Brazil|     1|     GK|    A. BECKER|   193|\n",
            "|Argentina|    16|     MF|      LANZINI|   167| Brazil|    16|     GK|       CASSIO|   195|\n",
            "+---------+------+-------+-------------+------+-------+------+-------+-------------+------+\n",
            "\n"
          ]
        }
      ]
    },
    {
      "cell_type": "markdown",
      "source": [
        "###Full Join"
      ],
      "metadata": {
        "id": "vGiH6P2zHNoW"
      }
    },
    {
      "cell_type": "code",
      "source": [
        "# Será mostrado todas as linhas\n",
        "# (valores que não corresponderem de ambos os lados serão representados como NULOS)"
      ],
      "metadata": {
        "id": "DVChDwYoIVO3"
      },
      "execution_count": null,
      "outputs": []
    },
    {
      "cell_type": "code",
      "source": [
        "dfnovo = arg.join(bra, arg['Numero'] == bra['Numero'], 'full')\n",
        "dfnovo.show(50)"
      ],
      "metadata": {
        "colab": {
          "base_uri": "https://localhost:8080/"
        },
        "id": "9f_J970UHLY1",
        "outputId": "b60c58e8-01d1-450f-8a18-f9bbbb24c68e"
      },
      "execution_count": 122,
      "outputs": [
        {
          "output_type": "stream",
          "name": "stdout",
          "text": [
            "+---------+------+-------+-------------+------+-------+------+-------+-------------+------+\n",
            "|  Selecao|Numero|Posicao|Nome_Camiseta|Altura|Selecao|Numero|Posicao|Nome_Camiseta|Altura|\n",
            "+---------+------+-------+-------------+------+-------+------+-------+-------------+------+\n",
            "|     NULL|  NULL|   NULL|         NULL|  NULL| Brazil|     1|     GK|    A. BECKER|   193|\n",
            "|Argentina|     2|     GK|       GUZMÁN|   192| Brazil|     2|     DF|     T. SILVA|   183|\n",
            "|Argentina|     3|     DF|      MERCADO|   181| Brazil|     3|     DF|      MIRANDA|   186|\n",
            "|Argentina|     4|     DF|   TAGLIAFICO|   169| Brazil|     4|     DF|      GEROMEL|   190|\n",
            "|Argentina|     5|     DF|      ANSALDI|   181| Brazil|     5|     MF|     CASEMIRO|   185|\n",
            "|Argentina|     6|     MF|       BIGLIA|   175| Brazil|     6|     DF|  FILIPE LUIS|   182|\n",
            "|Argentina|     7|     DF|        FAZIO|   199| Brazil|     7|     FW|     D. COSTA|   182|\n",
            "|Argentina|     8|     MF|       BANEGA|   175| Brazil|     8|     MF|   R. AUGUSTO|   186|\n",
            "|Argentina|     9|     DF|        ACUÑA|   172| Brazil|     9|     FW|     G. JESUS|   175|\n",
            "|Argentina|    10|     FW|      HIGUAÍN|   184| Brazil|    10|     FW|    NEYMAR JR|   175|\n",
            "|Argentina|    11|     FW|        MESSI|   170| Brazil|    11|     MF|  P. COUTINHO|   172|\n",
            "|Argentina|    12|     MF|     DI MARÍA|   178| Brazil|    12|     DF|      MARCELO|   174|\n",
            "|Argentina|    13|     GK|       ARMANI|   189| Brazil|    13|     DF|   MARQUINHOS|   183|\n",
            "|Argentina|    14|     MF|         MEZA|   180| Brazil|    14|     DF|       DANILO|   184|\n",
            "|Argentina|    15|     DF|   MASCHERANO|   174| Brazil|    15|     MF|     PAULINHO|   181|\n",
            "|Argentina|    16|     MF|      LANZINI|   167| Brazil|    16|     GK|       CASSIO|   195|\n",
            "|Argentina|    17|     DF|         ROJO|   189| Brazil|    17|     MF|  FERNANDINHO|   179|\n",
            "|Argentina|    18|     DF|     OTAMENDI|   181| Brazil|    18|     MF|         FRED|   169|\n",
            "|Argentina|    19|     DF|       SALVIO|   167| Brazil|    19|     MF|      WILLIAN|   175|\n",
            "|Argentina|    20|     FW|       AGÜERO|   172| Brazil|    20|     FW|      FIRMINO|   181|\n",
            "|Argentina|    21|     MF|     LO CELSO|   177| Brazil|    21|     FW|       TAISON|   172|\n",
            "|Argentina|    22|     FW|       DYBALA|   177| Brazil|    22|     DF|       FAGNER|   168|\n",
            "|Argentina|    23|     MF|        PAVÓN|   169| Brazil|    23|     GK|      EDERSON|   188|\n",
            "|Argentina|    24|     GK|    CABALLERO|   186|   NULL|  NULL|   NULL|         NULL|  NULL|\n",
            "+---------+------+-------+-------------+------+-------+------+-------+-------------+------+\n",
            "\n"
          ]
        }
      ]
    },
    {
      "cell_type": "markdown",
      "source": [
        "###Semi Join"
      ],
      "metadata": {
        "id": "F9Wk79uEHTMA"
      }
    },
    {
      "cell_type": "code",
      "source": [
        "# Similar ao Inner Join, porém apenas os dados do DataFrame esquerdo é mostrado"
      ],
      "metadata": {
        "id": "rsbswvi7IVut"
      },
      "execution_count": null,
      "outputs": []
    },
    {
      "cell_type": "code",
      "source": [
        "dfnovo = arg.join(bra, arg['Numero'] == bra['Numero'], 'semi')\n",
        "dfnovo.show(50)"
      ],
      "metadata": {
        "colab": {
          "base_uri": "https://localhost:8080/"
        },
        "id": "bH0H5IzEHUlC",
        "outputId": "f45f3753-1140-437d-9a1a-089aa42a46b8"
      },
      "execution_count": 123,
      "outputs": [
        {
          "output_type": "stream",
          "name": "stdout",
          "text": [
            "+---------+------+-------+-------------+------+\n",
            "|  Selecao|Numero|Posicao|Nome_Camiseta|Altura|\n",
            "+---------+------+-------+-------------+------+\n",
            "|Argentina|     4|     DF|   TAGLIAFICO|   169|\n",
            "|Argentina|    23|     MF|        PAVÓN|   169|\n",
            "|Argentina|    16|     MF|      LANZINI|   167|\n",
            "|Argentina|    19|     DF|       SALVIO|   167|\n",
            "|Argentina|    11|     FW|        MESSI|   170|\n",
            "|Argentina|     5|     DF|      ANSALDI|   181|\n",
            "|Argentina|     6|     MF|       BIGLIA|   175|\n",
            "|Argentina|     8|     MF|       BANEGA|   175|\n",
            "|Argentina|    15|     DF|   MASCHERANO|   174|\n",
            "|Argentina|    22|     FW|       DYBALA|   177|\n",
            "|Argentina|    20|     FW|       AGÜERO|   172|\n",
            "|Argentina|    10|     FW|      HIGUAÍN|   184|\n",
            "|Argentina|    12|     MF|     DI MARÍA|   178|\n",
            "|Argentina|    21|     MF|     LO CELSO|   177|\n",
            "|Argentina|    14|     MF|         MEZA|   180|\n",
            "|Argentina|     9|     DF|        ACUÑA|   172|\n",
            "|Argentina|     3|     DF|      MERCADO|   181|\n",
            "|Argentina|    18|     DF|     OTAMENDI|   181|\n",
            "|Argentina|    17|     DF|         ROJO|   189|\n",
            "|Argentina|     7|     DF|        FAZIO|   199|\n",
            "|Argentina|    13|     GK|       ARMANI|   189|\n",
            "|Argentina|     2|     GK|       GUZMÁN|   192|\n",
            "+---------+------+-------+-------------+------+\n",
            "\n"
          ]
        }
      ]
    },
    {
      "cell_type": "markdown",
      "source": [
        "###Anti Join"
      ],
      "metadata": {
        "id": "xjfKSIveHU3q"
      }
    },
    {
      "cell_type": "code",
      "source": [
        "# Mostra os dados do DF do lado esquerdo que NÂO possuem correspondências"
      ],
      "metadata": {
        "id": "XT86HYjdH9TB"
      },
      "execution_count": 125,
      "outputs": []
    },
    {
      "cell_type": "code",
      "source": [
        "dfnovo = arg.join(bra, arg['Numero'] == bra['Numero'], 'anti')\n",
        "dfnovo.show(50)"
      ],
      "metadata": {
        "colab": {
          "base_uri": "https://localhost:8080/"
        },
        "id": "8h2RwxcjHWp5",
        "outputId": "3539c86c-87e2-459e-c33b-02e0de9f3cdd"
      },
      "execution_count": 124,
      "outputs": [
        {
          "output_type": "stream",
          "name": "stdout",
          "text": [
            "+---------+------+-------+-------------+------+\n",
            "|  Selecao|Numero|Posicao|Nome_Camiseta|Altura|\n",
            "+---------+------+-------+-------------+------+\n",
            "|Argentina|    24|     GK|    CABALLERO|   186|\n",
            "+---------+------+-------+-------------+------+\n",
            "\n"
          ]
        }
      ]
    },
    {
      "cell_type": "code",
      "source": [],
      "metadata": {
        "id": "sPcy7PGTH5vR"
      },
      "execution_count": null,
      "outputs": []
    }
  ]
}